{
 "cells": [
  {
   "cell_type": "code",
   "execution_count": 1,
   "id": "96a7d122-5358-481c-932c-caff505bb6a4",
   "metadata": {},
   "outputs": [
    {
     "ename": "ModuleNotFoundError",
     "evalue": "No module named 'h5py'",
     "output_type": "error",
     "traceback": [
      "\u001b[0;31m---------------------------------------------------------------------------\u001b[0m",
      "\u001b[0;31mModuleNotFoundError\u001b[0m                       Traceback (most recent call last)",
      "Cell \u001b[0;32mIn[1], line 6\u001b[0m\n\u001b[1;32m      4\u001b[0m \u001b[38;5;28;01mimport\u001b[39;00m \u001b[38;5;21;01mcopy\u001b[39;00m\n\u001b[1;32m      5\u001b[0m \u001b[38;5;28;01mimport\u001b[39;00m \u001b[38;5;21;01mmath\u001b[39;00m\n\u001b[0;32m----> 6\u001b[0m \u001b[38;5;28;01mimport\u001b[39;00m \u001b[38;5;21;01mh5py\u001b[39;00m\n\u001b[1;32m      8\u001b[0m get_ipython()\u001b[38;5;241m.\u001b[39mrun_line_magic(\u001b[38;5;124m'\u001b[39m\u001b[38;5;124mmatplotlib\u001b[39m\u001b[38;5;124m'\u001b[39m, \u001b[38;5;124m'\u001b[39m\u001b[38;5;124minline\u001b[39m\u001b[38;5;124m'\u001b[39m)\n",
      "\u001b[0;31mModuleNotFoundError\u001b[0m: No module named 'h5py'"
     ]
    }
   ],
   "source": [
    "import numpy as np\n",
    "import pandas as pd\n",
    "import matplotlib.pyplot as plt\n",
    "import copy\n",
    "import math\n",
    "import h5py\n",
    "\n",
    "%matplotlib inline"
   ]
  },
  {
   "cell_type": "code",
   "execution_count": 2,
   "id": "a74bce42-c01a-400b-89cb-14bc525bfd78",
   "metadata": {},
   "outputs": [],
   "source": [
    "# map_feature contains degree which depicts how many number of features do you want to create from your two \n",
    "# existing features."
   ]
  },
  {
   "cell_type": "code",
   "execution_count": 3,
   "id": "5c8a14e0-92bc-4bf1-b2ce-517816b07acd",
   "metadata": {},
   "outputs": [],
   "source": [
    "def load_data(filename):\n",
    "    data = np.loadtxt(filename, delimiter=',')\n",
    "    X = data[:,:2]\n",
    "    y = data[:,2]\n",
    "    return X, y\n",
    "\n",
    "def plot_data(X, y, pos_label=\"y=1\", neg_label=\"y=0\"):\n",
    "    positive = y == 1\n",
    "    negative = y == 0\n",
    "    \n",
    "    plt.plot(X[positive, 0], X[positive, 1], 'k+', label=pos_label)\n",
    "    plt.plot(X[negative, 0], X[negative, 1], 'yo', label=neg_label)\n",
    "\n",
    "def sig(z):\n",
    "    return 1/(1+np.exp(-z))\n",
    "\n",
    "def plot_decision_boundary(w, b, X, y):\n",
    "    # Credit to dibgerge on Github for this plotting code\n",
    "     \n",
    "    plot_data(X[:, 0:2], y)\n",
    "    \n",
    "    if X.shape[1] <= 2:\n",
    "        plot_x = np.array([min(X[:, 0]), max(X[:, 0])])\n",
    "        plot_y = (-1. / w[1]) * (w[0] * plot_x + b)\n",
    "        \n",
    "        plt.plot(plot_x, plot_y, c=\"b\")\n",
    "        \n",
    "    else:\n",
    "        u = np.linspace(-1, 1.5, 50)\n",
    "        v = np.linspace(-1, 1.5, 50)\n",
    "        \n",
    "        z = np.zeros((len(u), len(v)))\n",
    "\n",
    "        # Evaluate z = theta*x over the grid\n",
    "        for i in range(len(u)):\n",
    "            for j in range(len(v)):\n",
    "                z[i,j] = sig(np.dot(map_feature(u[i], v[j]), w) + b)\n",
    "        \n",
    "        # important to transpose z before calling contour       \n",
    "        z = z.T\n",
    "        \n",
    "        # Plot z = 0\n",
    "        plt.contour(u,v,z, levels = [0.5], colors=\"g\")\n",
    "\n",
    "def map_feature(X1, X2):\n",
    "    \"\"\"\n",
    "    Feature mapping function to polynomial features    \n",
    "    \"\"\"\n",
    "    X1 = np.atleast_1d(X1)\n",
    "    X2 = np.atleast_1d(X2)\n",
    "    out = []\n",
    "    degree = 1\n",
    "    for i in range(1, degree+1):\n",
    "        for j in range(i + 1):\n",
    "            # print(\"a^\",(i-j),\"b^\",j)\n",
    "            out.append((X1**(i-j) * (X2**j)))\n",
    "    return np.stack(out, axis=1)"
   ]
  },
  {
   "cell_type": "markdown",
   "id": "fc0e2e0a-5f32-4dfd-b1cd-a5555fab5935",
   "metadata": {},
   "source": [
    "\n",
    "Recall that for logistic regression, the model is represented as\n",
    "\n",
    "<!-- $$ f_{\\mathbf{w},b}(x) = g(\\mathbf{w}\\cdot \\mathbf{x} + b)$$\n",
    "where function $g$ is the `sigmoid function`. The sigmoid function is defined as: -->\n",
    "\n",
    "$$ f_{\\mathbf{w},b}(x) = g(z) = \\frac{1}{1+e^{-z}} $$\n",
    "\n",
    "\n",
    "\n",
    "The cost function is of the form \n",
    "\n",
    "$$ J(\\mathbf{w},b) = \\frac{1}{m}\\sum_{i=0}^{m-1} \\left[ loss(f_{\\mathbf{w},b}(\\mathbf{x}^{(i)}), y^{(i)}) \\right] \\tag{1}$$\n",
    "\n",
    "where\n",
    "* m is the number of training examples in the dataset\n",
    "\n",
    "* $$ z = \\mathbf{w}\\cdot \\mathbf{x} + b $$\n",
    "\n",
    "* $loss(f_{\\mathbf{w},b}(\\mathbf{x}^{(i)}), y^{(i)})$ is the cost for a single data point, which is - \n",
    "\n",
    "    $$loss(f_{\\mathbf{w},b}(\\mathbf{x}^{(i)}), y^{(i)}) = (-y^{(i)} \\log\\left(f_{\\mathbf{w},b}\\left( \\mathbf{x}^{(i)} \\right) \\right) - \\left( 1 - y^{(i)}\\right) \\log \\left( 1 - f_{\\mathbf{w},b}\\left( \\mathbf{x}^{(i)} \\right) \\right) \\tag{2}$$\n",
    "    \n",
    "    \n",
    "*  $f_{\\mathbf{w},b}(\\mathbf{x}^{(i)})$ is the model's prediction, while $y^{(i)}$, which is the actual label\n",
    "\n",
    "*  $f_{\\mathbf{w},b}(\\mathbf{x}^{(i)}) = g(\\mathbf{w} \\cdot \\mathbf{x^{(i)}} + b)$ where function $g$ is the sigmoid function.\n",
    " \n"
   ]
  },
  {
   "cell_type": "code",
   "execution_count": 4,
   "id": "f6917f61-f095-4263-98d0-a5fcfde51dfe",
   "metadata": {},
   "outputs": [],
   "source": [
    "# def sigmoid(z):\n",
    "#     g = 1/(1+np.exp(-z))\n",
    "#     return g"
   ]
  },
  {
   "cell_type": "code",
   "execution_count": 5,
   "id": "c3634506-b6fd-48ba-aec1-6c4042763510",
   "metadata": {},
   "outputs": [],
   "source": [
    "# UNQ_C2\n",
    "# GRADED FUNCTION: compute_cost\n",
    "def compute_cost(X, y, w, b, lambda_= 1):\n",
    "    \"\"\"\n",
    "    Computes the cost over all examples\n",
    "    Args:\n",
    "      X : (ndarray Shape (m,n)) data, m examples by n features\n",
    "      y : (array_like Shape (m,)) target value \n",
    "      w : (array_like Shape (n,)) Values of parameters of the model      \n",
    "      b : scalar Values of bias parameter of the model\n",
    "      lambda_: unused placeholder\n",
    "    Returns:\n",
    "      total_cost: (scalar)         cost \n",
    "    \"\"\"\n",
    "    m, n = X.shape\n",
    "    z = np.dot(X, w) + b\n",
    "    f_wb = sig(z)\n",
    "    cost = np.mean(-y * np.log(f_wb) - (1 - y) * np.log(1 - f_wb))\n",
    "\n",
    "    return cost"
   ]
  },
  {
   "cell_type": "code",
   "execution_count": 6,
   "id": "ac65e13f-ccf5-4609-a2d1-28360c5f3326",
   "metadata": {},
   "outputs": [],
   "source": [
    "# m, n = X_train.shape\n",
    "# initial_w = np.zeros(n)\n",
    "# initial_b = 0.\n",
    "# cost = compute_cost(X_train, y_train, initial_w, initial_b)\n",
    "# print('Cost at initial w (zeros): {:.3f}'.format(cost))"
   ]
  },
  {
   "cell_type": "markdown",
   "id": "842c9d1b",
   "metadata": {},
   "source": [
    "\n",
    "Recall that the gradient descent algorithm is:\n",
    "\n",
    "$$\\begin{align*}& \\text{repeat until convergence:} \\; \\lbrace \\newline \\; & b := b -  \\alpha \\frac{\\partial J(\\mathbf{w},b)}{\\partial b} \\newline       \\; & w_j := w_j -  \\alpha \\frac{\\partial J(\\mathbf{w},b)}{\\partial w_j} \\tag{1}  \\; & \\text{for j := 0..n-1}\\newline & \\rbrace\\end{align*}$$\n",
    "\n",
    "where, parameters $b$, $w_j$ are all updated simultaniously\n",
    "\n",
    "\n",
    "\n",
    "\n",
    "`compute_gradient` function to compute $\\frac{\\partial J(\\mathbf{w},b)}{\\partial w}$, $\\frac{\\partial J(\\mathbf{w},b)}{\\partial b}$ from equations (2) and (3) below.\n",
    "\n",
    "$$\n",
    "\\frac{\\partial J(\\mathbf{w},b)}{\\partial b}  = \\frac{1}{m} \\sum\\limits_{i = 0}^{m-1} (f_{\\mathbf{w},b}(\\mathbf{x}^{(i)}) - \\mathbf{y}^{(i)}) \\tag{2}\n",
    "$$\n",
    "$$\n",
    "\\frac{\\partial J(\\mathbf{w},b)}{\\partial w_j}  = \\frac{1}{m} \\sum\\limits_{i = 0}^{m-1} (f_{\\mathbf{w},b}(\\mathbf{x}^{(i)}) - \\mathbf{y}^{(i)})x_{j}^{(i)} \\tag{3}\n",
    "$$\n",
    "* m is the number of training examples in the dataset\n",
    "\n",
    "    \n",
    "*  $f_{\\mathbf{w},b}(x^{(i)})$ is the model's prediction, while $y^{(i)}$ is the actual label\n"
   ]
  },
  {
   "cell_type": "code",
   "execution_count": 7,
   "id": "ff4349fb-6a68-418a-9bdd-7696fb9bc310",
   "metadata": {},
   "outputs": [],
   "source": [
    "# UNQ_C3\n",
    "# GRADED FUNCTION: compute_gradient\n",
    "def compute_gradient(X, y, w, b, lambda_=None): \n",
    "    \"\"\"\n",
    "    Computes the gradient for logistic regression \n",
    " \n",
    "    Args:\n",
    "      X : (ndarray Shape (m,n)) variable such as house size \n",
    "      y : (array_like Shape (m,1)) actual value \n",
    "      w : (array_like Shape (n,1)) values of parameters of the model      \n",
    "      b : (scalar)                 value of parameter of the model \n",
    "      lambda_: unused placeholder.\n",
    "    Returns\n",
    "      dj_dw: (array_like Shape (n,1)) The gradient of the cost w.r.t. the parameters w. \n",
    "      dj_db: (scalar)                The gradient of the cost w.r.t. the parameter b. \n",
    "    \"\"\"\n",
    "\n",
    "    # m, n = X.shape\n",
    "    # dj_dw = np.zeros(w.shape)\n",
    "    # dj_db = 0.\n",
    "\n",
    "    # ### START CODE HERE ### \n",
    "    # for i in range(m):\n",
    "    #     f_wb_i = sigmoid(np.dot(X[i],w) + b)          \n",
    "    #     err_i  = f_wb_i  - y[i]                       \n",
    "    #     for j in range(n):\n",
    "    #         dj_dw[j] = dj_dw[j] + err_i * X[i,j]      \n",
    "    #     dj_db = dj_db + err_i\n",
    "    # dj_dw = dj_dw/m                                   \n",
    "    # dj_db = dj_db/m\n",
    "\n",
    "    \n",
    "    m, n = X.shape\n",
    "    f_wb = sig(np.dot(X, w) + b)\n",
    "    err = f_wb - y\n",
    "    dj_dw = np.dot(X.T, err) / m\n",
    "    dj_db = np.mean(err)\n",
    "    return dj_db, dj_dw                           "
   ]
  },
  {
   "cell_type": "code",
   "execution_count": 41,
   "id": "2ac11ba8-702b-484c-9eee-d5dd5f444ba0",
   "metadata": {},
   "outputs": [],
   "source": [
    "# # Compute and display gradient with w initialized to zeroes\n",
    "\n",
    "# m, n = X_train.shape\n",
    "# initial_w = np.zeros(n)\n",
    "# initial_b = 0.\n",
    "\n",
    "# dj_db, dj_dw = compute_gradient(X_train, y_train, initial_w, initial_b)\n",
    "# print(f'dj_db at initial w (zeros):{dj_db}' )\n",
    "# print(f'dj_dw at initial w (zeros):{dj_dw.tolist()}' )"
   ]
  },
  {
   "cell_type": "code",
   "execution_count": 8,
   "id": "19713e6e-4c06-41e9-ab82-21dbb9a76c6e",
   "metadata": {},
   "outputs": [],
   "source": [
    "def gradient_descent(X, y, w_in, b_in, cost_function, gradient_function, alpha, num_iters, lambda_): \n",
    "    \"\"\"\n",
    "    Performs batch gradient descent to learn theta. Updates theta by taking \n",
    "    num_iters gradient steps with learning rate alpha\n",
    "    \n",
    "    Args:\n",
    "      X :    (array_like Shape (m, n)\n",
    "      y :    (array_like Shape (m,))\n",
    "      w_in : (array_like Shape (n,))  Initial values of parameters of the model\n",
    "      b_in : (scalar)                 Initial value of parameter of the model\n",
    "      cost_function:                  function to compute cost\n",
    "      alpha : (float)                 Learning rate\n",
    "      num_iters : (int)               number of iterations to run gradient descent\n",
    "      lambda_ (scalar, float)         regularization constant\n",
    "      \n",
    "    Returns:\n",
    "      w : (array_like Shape (n,)) Updated values of parameters of the model after\n",
    "          running gradient descent\n",
    "      b : (scalar)                Updated value of parameter of the model after\n",
    "          running gradient descent\n",
    "    \"\"\"\n",
    "    \n",
    "    # number of training examples\n",
    "    m = len(X)\n",
    "    \n",
    "    # An array to store cost J and w's at each iteration primarily for graphing later\n",
    "    J_history = []\n",
    "    w_history = []\n",
    "    \n",
    "    for i in range(num_iters):\n",
    "\n",
    "        # Calculate the gradient and update the parameters\n",
    "        dj_db, dj_dw = gradient_function(X, y, w_in, b_in, lambda_)   \n",
    "\n",
    "        # Update Parameters using w, b, alpha and gradient\n",
    "        w_in = w_in - alpha * dj_dw               \n",
    "        b_in = b_in - alpha * dj_db              \n",
    "       \n",
    "        # Save cost J at each iteration\n",
    "        if i<100000:      # prevent resource exhaustion \n",
    "            cost =  cost_function(X, y, w_in, b_in, lambda_)\n",
    "            J_history.append(cost)\n",
    "\n",
    "        # Print cost every at intervals 10 times or as many iterations if < 10\n",
    "        if i% math.ceil(num_iters/10) == 0 or i == (num_iters-1):\n",
    "            w_history.append(w_in)\n",
    "            print(f\"Iteration {i:4}: Cost {float(J_history[-1]):8.2f}   \")\n",
    "        \n",
    "    return w_in, b_in, J_history, w_history #return w and J,w history for graphing"
   ]
  },
  {
   "cell_type": "markdown",
   "id": "1a094ae8",
   "metadata": {},
   "source": [
    "### ex2data Dataset"
   ]
  },
  {
   "cell_type": "code",
   "execution_count": 10,
   "id": "92c824f5",
   "metadata": {},
   "outputs": [],
   "source": [
    "import os\n",
    "os.getcwd()\n",
    "\n",
    "path = '../../../Data/Logistic_Regression/ex2data1.txt'\n",
    "X_train, y_train = load_data(path)\n"
   ]
  },
  {
   "cell_type": "code",
   "execution_count": 11,
   "id": "2a45d31d",
   "metadata": {},
   "outputs": [
    {
     "data": {
      "image/png": "[encoded data removed]",
      "text/plain": [
       "<Figure size 640x480 with 1 Axes>"
      ]
     },
     "metadata": {},
     "output_type": "display_data"
    }
   ],
   "source": [
    "plot_data(X_train, y_train[:], pos_label=\"Accepted\", neg_label=\"Rejected\")\n",
    "\n",
    "# Set the y-axis label\n",
    "plt.ylabel('Microchip Test 2') \n",
    "# Set the x-axis label\n",
    "plt.xlabel('Microchip Test 1') \n",
    "plt.legend(loc=\"upper right\")\n",
    "plt.show()"
   ]
  },
  {
   "cell_type": "code",
   "execution_count": 79,
   "id": "14397339-47b5-4f89-b500-28d966774f8e",
   "metadata": {},
   "outputs": [
    {
     "name": "stdout",
     "output_type": "stream",
     "text": [
      "(100, 2)\n",
      "(100,)\n",
      "(2, 1)\n"
     ]
    }
   ],
   "source": [
    "np.random.seed(1)\n",
    "initial_w = 0.01 * (np.random.rand(X_train.shape[1]).reshape(-1,1) - 0.5)\n",
    "# initial_w = np.zeros(X_train.shape[1])\n",
    "initial_b = -8\n",
    "\n",
    "\n",
    "# Some gradient descent settings\n",
    "iterations = 100\n",
    "alpha = 0.00005\n",
    "\n",
    "print(X_train.shape)\n",
    "print(y_train.shape)\n",
    "print(initial_w.shape)"
   ]
  },
  {
   "cell_type": "code",
   "execution_count": 80,
   "id": "d7289260",
   "metadata": {},
   "outputs": [
    {
     "name": "stdout",
     "output_type": "stream",
     "text": [
      "Iteration    0: Cost     4.48   \n",
      "Iteration   10: Cost     1.94   \n",
      "Iteration   20: Cost     0.60   \n",
      "Iteration   30: Cost     0.29   \n",
      "Iteration   40: Cost     0.19   \n",
      "Iteration   50: Cost     0.14   \n",
      "Iteration   60: Cost     0.11   \n",
      "Iteration   70: Cost     0.09   \n",
      "Iteration   80: Cost     0.07   \n",
      "Iteration   90: Cost     0.06   \n",
      "Iteration   99: Cost     0.06   \n"
     ]
    }
   ],
   "source": [
    "w,b, J_history,_ = gradient_descent(X_train ,y_train, initial_w, initial_b, \n",
    "                                   compute_cost, compute_gradient, alpha, iterations, 0)"
   ]
  },
  {
   "cell_type": "code",
   "execution_count": 68,
   "id": "797f638b",
   "metadata": {},
   "outputs": [
    {
     "data": {
      "image/png": "[encoded data removed]",
      "text/plain": [
       "<Figure size 640x480 with 1 Axes>"
      ]
     },
     "metadata": {},
     "output_type": "display_data"
    }
   ],
   "source": [
    "# Assume that J_history is a list or array containing the cost at each iteration\n",
    "# Plot the cost function over iterations\n",
    "plt.plot(J_history)\n",
    "\n",
    "# Add labels and title to the plot\n",
    "plt.xlabel('Iterations')\n",
    "plt.ylabel('Cost (J)')\n",
    "plt.title('Cost Function J over Iterations')\n",
    "\n",
    "# Show the plot\n",
    "plt.show()\n"
   ]
  },
  {
   "cell_type": "code",
   "execution_count": 17,
   "id": "1c69a938-3721-47b9-b72e-75ad6193bfbf",
   "metadata": {},
   "outputs": [],
   "source": [
    "# plot_decision_boundary(w, b, X_train, y_train)"
   ]
  },
  {
   "cell_type": "markdown",
   "id": "1b665613",
   "metadata": {},
   "source": [
    "### Catvsnoncat Dataset"
   ]
  },
  {
   "cell_type": "code",
   "execution_count": 9,
   "id": "5d43c885",
   "metadata": {},
   "outputs": [],
   "source": [
    "path_train = '../../../Data/Logistic_Regression/catvnoncat/train_catvnoncat.h5'\n",
    "path_test = '../../../Data/Logistic_Regression/catvnoncat/test_catvnoncat.h5'\n",
    "\n",
    "def load_dataset():\n",
    "    train_dataset = h5py.File(path_train, \"r\")\n",
    "    train_set_x_orig = np.array(train_dataset[\"train_set_x\"][:]) # your train set features\n",
    "    train_set_y_orig = np.array(train_dataset[\"train_set_y\"][:]) # your train set labels\n",
    "\n",
    "    test_dataset = h5py.File(path_test, \"r\")\n",
    "    test_set_x_orig = np.array(test_dataset[\"test_set_x\"][:]) # your test set features\n",
    "    test_set_y_orig = np.array(test_dataset[\"test_set_y\"][:]) # your test set labels\n",
    "\n",
    "    classes = np.array(test_dataset[\"list_classes\"][:]) # the list of classes\n",
    "    \n",
    "    train_set_y_orig = train_set_y_orig.reshape((1, train_set_y_orig.shape[0]))\n",
    "    test_set_y_orig = test_set_y_orig.reshape((1, test_set_y_orig.shape[0]))\n",
    "    \n",
    "    return train_set_x_orig, train_set_y_orig, test_set_x_orig, test_set_y_orig, classes"
   ]
  },
  {
   "cell_type": "code",
   "execution_count": 94,
   "id": "e4d29272",
   "metadata": {},
   "outputs": [
    {
     "name": "stdout",
     "output_type": "stream",
     "text": [
      "(209, 64, 64, 3) \n",
      "\n",
      "(209, 12288)\n",
      "(209,)\n",
      "(12288, 1)\n"
     ]
    }
   ],
   "source": [
    "# load dataset\n",
    "train_set_x_orig, train_set_y, test_set_x_orig, test_set_y, classes = load_dataset()\n",
    "print(train_set_x_orig.shape, '\\n')\n",
    "\n",
    "train_set_x_flatten = train_set_x_orig.reshape(train_set_x_orig.shape[0], -1)\n",
    "test_set_x_flatten = test_set_x_orig.reshape(test_set_x_orig.shape[0], -1)\n",
    "\n",
    "train_set_y = train_set_y.T.squeeze()\n",
    "\n",
    "train_set_x = train_set_x_flatten/255.\n",
    "test_set_x = test_set_x_flatten/255.\n",
    "\n",
    "\n",
    "np.random.seed(1)\n",
    "initial_w = 0.01 * (np.random.rand(train_set_x.shape[1]).reshape(-1,1) - 0.5)\n",
    "# initial_w = np.zeros(train_set_x.shape[1])\n",
    "initial_b = -8\n",
    "\n",
    "\n",
    "# # Some gradient descent settings\n",
    "iterations = 200\n",
    "alpha = 0.0001\n",
    "\n",
    "print(train_set_x.shape)\n",
    "print(train_set_y.shape)\n",
    "print(initial_w.shape)"
   ]
  },
  {
   "cell_type": "code",
   "execution_count": 95,
   "id": "a7c66489",
   "metadata": {},
   "outputs": [
    {
     "name": "stdout",
     "output_type": "stream",
     "text": [
      "Iteration    0: Cost     2.70   \n",
      "Iteration   20: Cost     1.32   \n",
      "Iteration   40: Cost     0.52   \n",
      "Iteration   60: Cost     0.31   \n",
      "Iteration   80: Cost     0.22   \n",
      "Iteration  100: Cost     0.18   \n",
      "Iteration  120: Cost     0.15   \n",
      "Iteration  140: Cost     0.13   \n",
      "Iteration  160: Cost     0.12   \n",
      "Iteration  180: Cost     0.11   \n",
      "Iteration  199: Cost     0.10   \n"
     ]
    }
   ],
   "source": [
    "w,b, J_history,_ = gradient_descent(train_set_x ,train_set_y, initial_w, initial_b, \n",
    "                                   compute_cost, compute_gradient, alpha, iterations, 0)"
   ]
  },
  {
   "cell_type": "code",
   "execution_count": 96,
   "id": "98b32e98",
   "metadata": {},
   "outputs": [
    {
     "data": {
      "image/png": "[encoded data removed]",
      "text/plain": [
       "<Figure size 640x480 with 1 Axes>"
      ]
     },
     "metadata": {},
     "output_type": "display_data"
    }
   ],
   "source": [
    "plt.plot(J_history)\n",
    "plt.xlabel('Iterations')\n",
    "plt.ylabel('Cost (J)')\n",
    "plt.title('Cost Function J over Iterations')\n",
    "plt.show()\n"
   ]
  },
  {
   "cell_type": "code",
   "execution_count": 93,
   "id": "696c43af",
   "metadata": {},
   "outputs": [
    {
     "data": {
      "text/plain": [
       "(12288, 209)"
      ]
     },
     "execution_count": 93,
     "metadata": {},
     "output_type": "execute_result"
    }
   ],
   "source": [
    "w.shape"
   ]
  },
  {
   "cell_type": "markdown",
   "id": "9ee0ff68-1dfe-41dc-b9d8-ca01459727a9",
   "metadata": {},
   "source": [
    "# Feature Mapping"
   ]
  },
  {
   "cell_type": "code",
   "execution_count": 21,
   "id": "9c4e9ffb-a30d-4a7c-b481-9dc4b8af7e3c",
   "metadata": {},
   "outputs": [
    {
     "name": "stdout",
     "output_type": "stream",
     "text": [
      "Original shape of data: (100, 2)\n",
      "Shape after feature mapping: (100, 5)\n"
     ]
    }
   ],
   "source": [
    "\n",
    "print(\"Original shape of data:\", X_train.shape)\n",
    "X_mapped =  map_feature(X_train[:, 0], X_train[:, 1])\n",
    "print(\"Shape after feature mapping:\", X_mapped.shape)"
   ]
  },
  {
   "cell_type": "code",
   "execution_count": 29,
   "id": "f1b81c8a-dc06-407c-9073-d6028e0836b3",
   "metadata": {},
   "outputs": [
    {
     "name": "stderr",
     "output_type": "stream",
     "text": [
      "C:\\Users\\Hamza Jadoon\\AppData\\Local\\Temp\\ipykernel_10480\\3593790199.py:2: RuntimeWarning: overflow encountered in exp\n",
      "  g = 1/(1+np.exp(-z))\n",
      "C:\\Users\\Hamza Jadoon\\AppData\\Local\\Temp\\ipykernel_10480\\3898030761.py:18: RuntimeWarning: divide by zero encountered in log\n",
      "  cost = np.mean(-y * np.log(f_wb) - (1 - y) * np.log(1 - f_wb))\n",
      "C:\\Users\\Hamza Jadoon\\AppData\\Local\\Temp\\ipykernel_10480\\3898030761.py:18: RuntimeWarning: invalid value encountered in multiply\n",
      "  cost = np.mean(-y * np.log(f_wb) - (1 - y) * np.log(1 - f_wb))\n"
     ]
    },
    {
     "name": "stdout",
     "output_type": "stream",
     "text": [
      "Iteration    0: Cost      nan   \n",
      "Iteration 9000: Cost      nan   \n",
      "Iteration 18000: Cost      nan   \n",
      "Iteration 27000: Cost     0.32   \n",
      "Iteration 36000: Cost     0.28   \n",
      "Iteration 45000: Cost     0.28   \n",
      "Iteration 54000: Cost     0.28   \n",
      "Iteration 63000: Cost     0.27   \n",
      "Iteration 72000: Cost     0.27   \n",
      "Iteration 81000: Cost     0.27   \n",
      "Iteration 89999: Cost     0.27   \n"
     ]
    }
   ],
   "source": [
    "np.random.seed(1)\n",
    "initial_w = np.random.rand(X_mapped.shape[1]) - 0.5\n",
    "# intial_w = np.zeros(X_mapped.shape[1])\n",
    "initial_b = -8\n",
    "\n",
    "\n",
    "# Some gradient descent settings\n",
    "iterations = 90000\n",
    "alpha = 0.0000001\n",
    "\n",
    "w,b, J_history,_ = gradient_descent(X_mapped ,y_train, initial_w, initial_b, \n",
    "                                   compute_cost, compute_gradient, alpha, iterations, 0)"
   ]
  },
  {
   "cell_type": "code",
   "execution_count": 30,
   "id": "7ae7b51e-57a4-4163-8a0d-37b8ce14cace",
   "metadata": {},
   "outputs": [
    {
     "name": "stderr",
     "output_type": "stream",
     "text": [
      "C:\\Users\\Hamza Jadoon\\AppData\\Local\\Temp\\ipykernel_10480\\912397848.py:37: DeprecationWarning: Conversion of an array with ndim > 0 to a scalar is deprecated, and will error in future. Ensure you extract a single element from your array before performing this operation. (Deprecated NumPy 1.25.)\n",
      "  z[i,j] = sig(np.dot(map_feature(u[i], v[j]), w) + b)\n"
     ]
    },
    {
     "data": {
      "image/png": "[encoded data removed]",
      "text/plain": [
       "<Figure size 640x480 with 1 Axes>"
      ]
     },
     "metadata": {},
     "output_type": "display_data"
    }
   ],
   "source": [
    "plot_decision_boundary(w, b, X_mapped, y_train)"
   ]
  },
  {
   "cell_type": "code",
   "execution_count": null,
   "id": "13c40c05-c89c-47a5-8677-135bf20cb832",
   "metadata": {},
   "outputs": [],
   "source": []
  },
  {
   "cell_type": "markdown",
   "id": "d981c02e-c51f-4f31-ab54-9db9c1d01d5d",
   "metadata": {},
   "source": [
    "# Prediction"
   ]
  },
  {
   "cell_type": "code",
   "execution_count": 101,
   "id": "9a35d273-7d00-40ab-9392-896d7ff3e716",
   "metadata": {},
   "outputs": [],
   "source": [
    "# def predict(X, w, b):\n",
    "\n",
    "#     f = np.dot(X, w) + b\n",
    "#     predictions = sig(f)\n",
    "#     indices = np.where(predictions > 0.5)\n",
    "\n",
    "#     predicted_labels = np.zeros(predictions.shape)\n",
    "#     predicted_labels[indices] = 1\n",
    "#     accuracy = np.mean(predicted_labels == y_train)\n",
    "    \n",
    "#     return accuracy\n",
    "\n",
    "# accuracy = predict(X_train, w, b)\n",
    "# accuracy\n",
    "\n"
   ]
  },
  {
   "cell_type": "code",
   "execution_count": 100,
   "id": "81441004",
   "metadata": {},
   "outputs": [],
   "source": [
    "def predict(w, b, X):\n",
    "\n",
    "    m = X.shape[1]\n",
    "    Y_prediction = np.zeros((1,m))\n",
    "    w = w.reshape(X.shape[0], 1)\n",
    "\n",
    "    A = sig(np.dot(w.T,X) + b)           # Dimentions = (1, m)\n",
    "    Y_prediction = (A >= 0.5) * 1.0\n",
    "    \n",
    "    return Y_prediction\n",
    "\n"
   ]
  },
  {
   "cell_type": "code",
   "execution_count": null,
   "id": "20b9e2c9",
   "metadata": {},
   "outputs": [],
   "source": []
  },
  {
   "cell_type": "code",
   "execution_count": null,
   "id": "9a0a9833",
   "metadata": {},
   "outputs": [],
   "source": []
  },
  {
   "cell_type": "code",
   "execution_count": null,
   "id": "687d8d2a",
   "metadata": {},
   "outputs": [],
   "source": []
  },
  {
   "cell_type": "code",
   "execution_count": null,
   "id": "326c3bb6",
   "metadata": {},
   "outputs": [],
   "source": []
  }
 ],
 "metadata": {
  "kernelspec": {
   "display_name": "myenv",
   "language": "python",
   "name": "python3"
  },
  "language_info": {
   "codemirror_mode": {
    "name": "ipython",
    "version": 3
   },
   "file_extension": ".py",
   "mimetype": "text/x-python",
   "name": "python",
   "nbconvert_exporter": "python",
   "pygments_lexer": "ipython3",
   "version": "3.13.0"
  }
 },
 "nbformat": 4,
 "nbformat_minor": 5
}
