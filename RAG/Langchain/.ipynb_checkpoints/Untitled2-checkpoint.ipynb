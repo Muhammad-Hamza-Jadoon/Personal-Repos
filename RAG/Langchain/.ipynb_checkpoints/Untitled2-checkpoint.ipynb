{
 "cells": [
  {
   "cell_type": "code",
   "execution_count": 1,
   "id": "1b80287e-e636-4552-8366-b41691c9b2ed",
   "metadata": {},
   "outputs": [],
   "source": [
    "import json\n",
    "\n",
    "scoopsie_api_docs = {\n",
    "    \"base_url\": \"<http://127.0.0.1:5000/>\",\n",
    "    \"endpoints\": {\n",
    "        \"/menu\": {\n",
    "            \"method\": \"GET\",\n",
    "            \"description\": \"Retrieve the menu of flavors and customizations.\",\n",
    "            \"parameters\": None,\n",
    "            \"response\": {\n",
    "                \"description\": \"A JSON object containing available flavors and toppings along with their counts.\",\n",
    "                \"content_type\": \"application/json\"\n",
    "            }\n",
    "        },\n",
    "        \"/special-offers\": {\n",
    "            \"method\": \"GET\",\n",
    "            \"description\": \"Retrieve current special offers and discounts.\",\n",
    "            \"parameters\": None,\n",
    "            \"response\": {\n",
    "                \"description\": \"A JSON object listing the current special offers and discounts.\",\n",
    "                \"content_type\": \"application/json\"\n",
    "            }\n",
    "        },\n",
    "        \"/customer-reviews\": {\n",
    "            \"method\": \"GET\",\n",
    "            \"description\": \"Retrieve customer reviews for the ice cream store.\",\n",
    "            \"parameters\": None,\n",
    "            \"response\": {\n",
    "                \"description\": \"A JSON object containing customer reviews, ratings, and comments.\",\n",
    "                \"content_type\": \"application/json\"\n",
    "            }\n",
    "        },\n",
    "        \"/customizations\": {\n",
    "            \"method\": \"GET\",\n",
    "            \"description\": \"Retrieve available ice cream customizations.\",\n",
    "            \"parameters\": None,\n",
    "            \"response\": {\n",
    "                \"description\": \"A JSON object listing available customizations like toppings and sugar-free options.\",\n",
    "                \"content_type\": \"application/json\"\n",
    "            }\n",
    "        }\n",
    "    }\n",
    "}\n",
    "\n",
    "# Convert the dictionary to a JSON string\n",
    "scoopsie_api_docs = json.dumps(scoopsie_api_docs, indent=2)"
   ]
  },
  {
   "cell_type": "code",
   "execution_count": null,
   "id": "ec560c78-6ea1-4bba-925c-9c68815b73e8",
   "metadata": {},
   "outputs": [],
   "source": []
  }
 ],
 "metadata": {
  "kernelspec": {
   "display_name": "Python 3 (ipykernel)",
   "language": "python",
   "name": "python3"
  },
  "language_info": {
   "codemirror_mode": {
    "name": "ipython",
    "version": 3
   },
   "file_extension": ".py",
   "mimetype": "text/x-python",
   "name": "python",
   "nbconvert_exporter": "python",
   "pygments_lexer": "ipython3",
   "version": "3.10.13"
  }
 },
 "nbformat": 4,
 "nbformat_minor": 5
}
