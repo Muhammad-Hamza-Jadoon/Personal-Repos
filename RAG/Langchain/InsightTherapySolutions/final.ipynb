{
 "cells": [
  {
   "cell_type": "code",
   "execution_count": 10,
   "id": "f0e0ea55-5dd0-40ea-8d8f-eccefc8ea70a",
   "metadata": {},
   "outputs": [
    {
     "name": "stderr",
     "output_type": "stream",
     "text": [
      "C:\\Users\\HamzaJadoon\\anaconda3\\envs\\myenv\\Lib\\site-packages\\langchain_together\\llms.py:93: UserWarning: The completions endpoint, has 'max_tokens' as required argument. The default value is being set to 200 Consider setting this value, when initializing LLM\n",
      "  warnings.warn(\n"
     ]
    },
    {
     "name": "stdout",
     "output_type": "stream",
     "text": [
      "Welcome to the Medical Transcript Q&A System!\n",
      "Ask questions about the doctor-patient conversation, or type 'quit' to exit.\n"
     ]
    },
    {
     "name": "stdin",
     "output_type": "stream",
     "text": [
      "\n",
      "Your question:  hllo doctor\n"
     ]
    },
    {
     "name": "stdout",
     "output_type": "stream",
     "text": [
      "\n",
      "AI Assistant:  Good morning! What brings you to see me today?\n"
     ]
    },
    {
     "name": "stdin",
     "output_type": "stream",
     "text": [
      "\n",
      "Your question:  quit\n"
     ]
    },
    {
     "name": "stdout",
     "output_type": "stream",
     "text": [
      "Thank you for using the Medical Transcript Q&A System. Goodbye!\n"
     ]
    }
   ],
   "source": [
    "from langchain.prompts import PromptTemplate\n",
    "from langchain.chains import LLMChain\n",
    "from langchain_together import Together\n",
    "from langchain.memory import ConversationBufferMemory\n",
    "\n",
    "# The transcript text\n",
    "transcript = \"\"\"\n",
    "Doctor (D): Good morning, how are you feeling today?\n",
    "Patient (P): Good morning, Doctor. I've been feeling very anxious and stressed lately.\n",
    "D: I'm sorry to hear that. Can you describe your symptoms in more detail?\n",
    "P: I've been having trouble sleeping, my heart races for no reason, and I often feel like I'm on edge. I also feel exhausted all the time.\n",
    "D: It sounds like you might be experiencing symptoms of Generalized Anxiety Disorder (GAD). Have you experienced these symptoms before?\n",
    "P: Yes, I've had anxiety for a few years, but it's gotten worse recently.\n",
    "D: I understand. Based on your symptoms and history, I'm diagnosing you with Generalized Anxiety Disorder. We'll need to address this with a combination of medication, therapy, and lifestyle changes. Does that sound okay to you?\n",
    "P: Yes, I just want to feel better.\n",
    "D: For medication, I'm going to prescribe you an SSRI (Selective Serotonin Reuptake Inhibitor) called Sertraline. This should help manage your anxiety symptoms. It's important to take it as prescribed and be patient, as it may take a few weeks to see the full effects.\n",
    "P: Okay, I can do that.\n",
    "D: In addition to the medication, I'd like you to try some cognitive-behavioral therapy (CBT). This type of therapy can help you identify and change negative thought patterns and behaviors. I'll refer you to a therapist who specializes in CBT.\n",
    "P: That sounds helpful. I've heard of CBT before.\n",
    "D: Great. Now, let's talk about some exercises and lifestyle changes. Regular physical exercise can be very beneficial for reducing anxiety. Aim for at least 30 minutes of moderate exercise, like walking or yoga, most days of the week.\n",
    "P: I can try to incorporate that into my routine.\n",
    "D: Good. Also, practicing mindfulness or meditation daily can help reduce stress. There are many apps and online resources that can guide you through these practices.\n",
    "P: I've never tried meditation, but I'm willing to give it a go.\n",
    "D: Excellent. Finally, let's discuss some precautions. Avoid caffeine and alcohol as they can worsen anxiety symptoms. Make sure to get enough sleep, and try to maintain a regular sleep schedule.\n",
    "P: I do drink a lot of coffee. I'll try to cut back.\n",
    "D: It's all about making small, sustainable changes. We will monitor your progress closely and adjust the treatment plan as needed. Do you have any questions or concerns?\n",
    "P: Not at the moment. Thank you, Doctor.\n",
    "D: You're welcome. Remember, you're not alone in this, and we're here to support you. I'll see you in two weeks for a follow-up.\n",
    "P: Thank you, Doctor. I appreciate it.\n",
    "\"\"\"\n",
    "\n",
    "template = \"\"\"\n",
    "You are a doctor having a concise conversation with a patient similar to the following doctor-patient transcript:\n",
    "\n",
    "{transcript}\n",
    "\n",
    "Please answer the user's question similar to the chat provided in the transcript.\n",
    "Keep your responses brief and to the point, similar to a real doctor-patient interaction.\n",
    "Ask focused questions, provide short diagnoses, and give concise treatment recommendations. Do not generate or assume any patient responses.\n",
    "\n",
    "Chat History: {chat_history}\n",
    "Question: {question}\n",
    "Answer:\"\"\"\n",
    "\n",
    "\n",
    "\n",
    "# template = \"\"\"\n",
    "\n",
    "#     You are an AI Doctor who responds to the queries of patients and try to help them with their problems.\n",
    "#     Your responses must be brief and concise, and to the point. You should talk about the following things with the patient:\n",
    "#     What is patient’s illness?\n",
    "#     What doctor diagnosed?\n",
    "#     What medicine doctor mentioned?\n",
    "#     Duration of medicine?\n",
    "#     Precautions if any?\n",
    "#     Activity if any\n",
    "\n",
    "# Chat History: {chat_history}\n",
    "# Patient: {question}\n",
    "# Doctor:\"\"\"\n",
    "\n",
    "\n",
    "prompt_template = PromptTemplate(\n",
    "    # input_variables=[\"chat_history\", \"question\"],\n",
    "    input_variables=[\"chat_history\", \"transcript\", \"question\"],\n",
    "    template=template\n",
    ")\n",
    "\n",
    "together_api_key = \"24cdbdf50106e08f6ba3328ac07f97a73eb440ae36da6cdd72f9b091ccca850a\"\n",
    "\n",
    "llm = Together(\n",
    "    model = \"meta-llama/Meta-Llama-3-70B-Instruct-Turbo\",\n",
    "    # model=\"MISTRALAI/MIXTRAL-8X7B-INSTRUCT-V0.1\",\n",
    "    temperature=0.7,\n",
    "    together_api_key=together_api_key\n",
    ")\n",
    "\n",
    "conversation_memory = ConversationBufferMemory(\n",
    "    memory_key=\"chat_history\",\n",
    "    input_key=\"question\",\n",
    "    max_len=50,\n",
    "    return_messages=True,\n",
    ")\n",
    "\n",
    "llm_chain = LLMChain(\n",
    "    llm=llm,\n",
    "    prompt=prompt_template,\n",
    "    memory=conversation_memory\n",
    ")\n",
    "\n",
    "def main():\n",
    "    print(\"Welcome to the Medical Transcript Q&A System!\")\n",
    "    print(\"Ask questions about the doctor-patient conversation, or type 'quit' to exit.\")\n",
    "    \n",
    "    while True:\n",
    "        user_input = input(\"\\nYour question: \")\n",
    "        if user_input.lower() == 'quit':\n",
    "            print(\"Thank you for using the Medical Transcript Q&A System. Goodbye!\")\n",
    "            break\n",
    "        \n",
    "        response = llm_chain.run(question=user_input, transcript=transcript)\n",
    "        print(\"\\nAI Assistant:\", response)\n",
    "\n",
    "if __name__ == \"__main__\":\n",
    "    main()"
   ]
  },
  {
   "cell_type": "code",
   "execution_count": null,
   "id": "6a60b13d-24ee-4719-a011-a6a269f442fa",
   "metadata": {},
   "outputs": [],
   "source": []
  }
 ],
 "metadata": {
  "kernelspec": {
   "display_name": "Python 3 (ipykernel)",
   "language": "python",
   "name": "python3"
  },
  "language_info": {
   "codemirror_mode": {
    "name": "ipython",
    "version": 3
   },
   "file_extension": ".py",
   "mimetype": "text/x-python",
   "name": "python",
   "nbconvert_exporter": "python",
   "pygments_lexer": "ipython3",
   "version": "3.12.4"
  }
 },
 "nbformat": 4,
 "nbformat_minor": 5
}
