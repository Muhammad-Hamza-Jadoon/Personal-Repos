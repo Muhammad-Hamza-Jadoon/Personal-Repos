{
 "cells": [
  {
   "cell_type": "code",
   "execution_count": null,
   "id": "cf23800b-a266-47f9-b2c1-dc240891b7eb",
   "metadata": {},
   "outputs": [],
   "source": [
    "from langchain.prompts import PromptTemplate\n",
    "from langchain.chains import LLMChain\n",
    "from langchain_together import Together\n",
    "from langchain.memory import ConversationBufferMemory\n",
    "import chainlit as cl\n",
    "\n",
    "template = \"\"\"\n",
    "You are an AI doctor having a concise conversation with a patient. Keep your responses brief and to the point, similar to a real doctor-patient interaction. Ask focused questions, provide short diagnoses, and give concise treatment recommendations. Do not generate or assume any patient responses.\n",
    "\n",
    "Chat History: {chat_history}\n",
    "Patient: {human_input}\n",
    "Doctor:\"\"\"\n",
    "\n",
    "prompt_template = PromptTemplate(\n",
    "    input_variables=[\"chat_history\", \"human_input\"],\n",
    "    template=template\n",
    ")\n",
    "\n",
    "together_api_key = \"24cdbdf50106e08f6ba3328ac07f97a73eb440ae36da6cdd72f9b091ccca850a\"\n",
    "\n",
    "llm = Together(\n",
    "    model=\"MISTRALAI/MIXTRAL-8X7B-INSTRUCT-V0.1\",\n",
    "    temperature=0.7,\n",
    "    together_api_key=together_api_key\n",
    ")\n",
    "\n",
    "conversation_memory = ConversationBufferMemory(\n",
    "    memory_key=\"chat_history\",\n",
    "    input_key=\"human_input\",\n",
    "    return_messages=True\n",
    ")\n",
    "\n",
    "llm_chain = LLMChain(\n",
    "    llm=llm,\n",
    "    prompt=prompt_template,\n",
    "    memory=conversation_memory\n",
    ")\n",
    "\n",
    "@cl.on_chat_start\n",
    "async def start():\n",
    "    await cl.Message(content=\"Hello, I'm an AI doctor. How can I help you today?\").send()\n",
    "    cl.user_session.set(\"chain\", llm_chain)\n",
    "\n",
    "@cl.on_message\n",
    "async def main(message: str):\n",
    "    chain = cl.user_session.get(\"chain\")\n",
    "    response = await chain.arun(human_input=message)\n",
    "    await cl.Message(content=response).send()"
   ]
  }
 ],
 "metadata": {
  "kernelspec": {
   "display_name": "Python 3 (ipykernel)",
   "language": "python",
   "name": "python3"
  },
  "language_info": {
   "codemirror_mode": {
    "name": "ipython",
    "version": 3
   },
   "file_extension": ".py",
   "mimetype": "text/x-python",
   "name": "python",
   "nbconvert_exporter": "python",
   "pygments_lexer": "ipython3",
   "version": "3.12.4"
  }
 },
 "nbformat": 4,
 "nbformat_minor": 5
}
