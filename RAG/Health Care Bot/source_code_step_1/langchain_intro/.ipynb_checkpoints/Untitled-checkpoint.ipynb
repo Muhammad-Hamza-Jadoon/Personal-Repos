{
 "cells": [
  {
   "cell_type": "code",
   "execution_count": 1,
   "id": "259ce287-c161-4a84-a99b-00e6e6d3b76d",
   "metadata": {},
   "outputs": [],
   "source": [
    "import dotenv\n",
    "from langchain import hub\n",
    "from langchain.agents import AgentExecutor, Tool, create_openai_functions_agent\n",
    "from langchain.prompts import (\n",
    "    ChatPromptTemplate,\n",
    "    HumanMessagePromptTemplate,\n",
    "    PromptTemplate,\n",
    "    SystemMessagePromptTemplate,\n",
    ")\n",
    "import time\n",
    "import random\n",
    "from langchain.schema.runnable import RunnablePassthrough\n",
    "from langchain_community.vectorstores import Chroma\n",
    "from langchain_core.output_parsers import StrOutputParser\n",
    "from tools import get_current_wait_time\n",
    "from langchain_openai import ChatOpenAI, OpenAIEmbeddings\n",
    "from langchain.document_loaders.csv_loader import CSVLoader\n",
    "\n"
   ]
  },
  {
   "cell_type": "code",
   "execution_count": 2,
   "id": "33ed7e1c-794a-434b-9c62-2794e0d5e4b2",
   "metadata": {},
   "outputs": [],
   "source": [
    "REVIEWS_CSV_PATH = \"reviews.csv\"\n",
    "loader = CSVLoader(file_path = REVIEWS_CSV_PATH, source_column=\"review\")\n",
    "reviews = loader.load()"
   ]
  },
  {
   "cell_type": "markdown",
   "id": "6cd46bfb-2692-4d34-ab7a-0326eee0a7cc",
   "metadata": {},
   "source": [
    "# Prompt"
   ]
  },
  {
   "cell_type": "code",
   "execution_count": 3,
   "id": "96bb4b88-d594-476a-bdb1-b426b15d23cc",
   "metadata": {},
   "outputs": [],
   "source": [
    "# dotenv.load_dotenv()\n",
    "review_template_str = \"\"\"Your job is to use patient\n",
    "reviews to answer questions about their experience at\n",
    "a hospital. Use the following context to answer questions.\n",
    "Be as detailed as possible, but don't make up any information\n",
    "that's not from the context. If you don't know an answer, say\n",
    "you don't know.\n",
    "{context}\n",
    "\"\"\"\n",
    "\n",
    "\n",
    "review_system_prompt = SystemMessagePromptTemplate(\n",
    "    prompt=PromptTemplate(\n",
    "        input_variables=[\"context\"], template=review_template_str\n",
    "    )\n",
    ")\n",
    "\n",
    "review_human_prompt = HumanMessagePromptTemplate(\n",
    "    prompt=PromptTemplate(input_variables=[\"question\"], template=\"{question}\")\n",
    ")\n",
    "messages = [review_system_prompt, review_human_prompt]\n",
    "\n",
    "review_prompt_template = ChatPromptTemplate(\n",
    "    input_variables=[\"context\", \"question\"], messages=messages\n",
    ")"
   ]
  },
  {
   "cell_type": "code",
   "execution_count": 4,
   "id": "410bb56b-255e-469b-bc6a-2c3e7b0885a1",
   "metadata": {},
   "outputs": [
    {
     "name": "stdout",
     "output_type": "stream",
     "text": [
      "('name', None)\n",
      "('input_variables', ['context', 'question'])\n",
      "('optional_variables', [])\n",
      "('input_types', {})\n",
      "('output_parser', None)\n",
      "('partial_variables', {})\n",
      "('metadata', None)\n",
      "('tags', None)\n",
      "('messages', [SystemMessagePromptTemplate(prompt=PromptTemplate(input_variables=['context'], template=\"Your job is to use patient\\nreviews to answer questions about their experience at\\na hospital. Use the following context to answer questions.\\nBe as detailed as possible, but don't make up any information\\nthat's not from the context. If you don't know an answer, say\\nyou don't know.\\n{context}\\n\")), HumanMessagePromptTemplate(prompt=PromptTemplate(input_variables=['question'], template='{question}'))])\n",
      "('validate_template', False)\n"
     ]
    }
   ],
   "source": [
    "for i in review_prompt_template:\n",
    "    print(i)"
   ]
  },
  {
   "cell_type": "markdown",
   "id": "74a7a008-2918-4b14-b9d5-542e8be2f8ea",
   "metadata": {},
   "source": [
    "# Model"
   ]
  },
  {
   "cell_type": "code",
   "execution_count": 5,
   "id": "5cebdc99-26eb-43f6-92ea-c222d90511f2",
   "metadata": {},
   "outputs": [],
   "source": [
    "from langchain_together import Together\n",
    "from langchain_openai import ChatOpenAI\n",
    "\n",
    "# chat_model = Together(\n",
    "#     model=\"META-LLAMA/LLAMA-3-8B-CHAT-HF\",\n",
    "#     together_api_key=\"24cdbdf50106e08f6ba3328ac07f97a73eb440ae36da6cdd72f9b091ccca850a\"\n",
    "# )\n",
    "\n",
    "chat_model = ChatOpenAI(\n",
    "    base_url=\"https://api.together.xyz/v1\",\n",
    "    api_key=\"24cdbdf50106e08f6ba3328ac07f97a73eb440ae36da6cdd72f9b091ccca850a\",\n",
    "    # model=\"META-LLAMA/LLAMA-3-8B-CHAT-HF\",\n",
    "    model=\"mistralai/Mixtral-8x7B-Instruct-v0.1\",\n",
    "    # model=\"google/gemma-2-27b-it\",\n",
    "    \n",
    "    # temperature=0\n",
    ")\n",
    "output_parser = StrOutputParser()"
   ]
  },
  {
   "cell_type": "code",
   "execution_count": 6,
   "id": "03f7b617-70be-486f-b590-4b5922c2e51c",
   "metadata": {},
   "outputs": [],
   "source": [
    "def get_current_wait_time(hospital: str) -> int | str:\n",
    "    \"\"\"Dummy function to generate fake wait times\"\"\"\n",
    "\n",
    "    if hospital not in [\"A\", \"B\", \"C\", \"D\"]:\n",
    "        return f\"Hospital {hospital} does not exist\"\n",
    "    # Simulate API call delay\n",
    "    time.sleep(1)\n",
    "\n",
    "    return random.randint(0, 10000)"
   ]
  },
  {
   "cell_type": "markdown",
   "id": "3491a702-8982-44a5-8f15-9b8d9e33cb0d",
   "metadata": {},
   "source": [
    "# Embeddings"
   ]
  },
  {
   "cell_type": "code",
   "execution_count": 7,
   "id": "dc2c5c73-47e7-45dd-b8a4-0d76f076a9b0",
   "metadata": {},
   "outputs": [],
   "source": [
    "from langchain_together.embeddings import TogetherEmbeddings\n",
    "embeddings = TogetherEmbeddings(\n",
    "    model=\"togethercomputer/m2-bert-80M-8k-retrieval\",\n",
    "    together_api_key=\"24cdbdf50106e08f6ba3328ac07f97a73eb440ae36da6cdd72f9b091ccca850a\"                          \n",
    ")"
   ]
  },
  {
   "cell_type": "markdown",
   "id": "604fd081-78d3-4051-a2b7-d0e5aa0ad39b",
   "metadata": {},
   "source": [
    "# Vector Store"
   ]
  },
  {
   "cell_type": "code",
   "execution_count": 8,
   "id": "13647b15-0e87-4ae9-95ab-7baa9d728c91",
   "metadata": {},
   "outputs": [],
   "source": [
    "# Load Chroma-vectordb\n",
    "REVIEWS_CHROMA_PATH = \"chroma_data (self-created)\"\n",
    "reviews_vector_db = Chroma(\n",
    "    persist_directory=REVIEWS_CHROMA_PATH,\n",
    "    embedding_function=embeddings,\n",
    ")"
   ]
  },
  {
   "cell_type": "code",
   "execution_count": 9,
   "id": "e5cfb87d-dd51-4faf-a89e-1432505002e3",
   "metadata": {},
   "outputs": [
    {
     "name": "stdout",
     "output_type": "stream",
     "text": [
      "1005\n"
     ]
    }
   ],
   "source": [
    "reviews_vector_db\n",
    "print(reviews_vector_db._collection.count())\n",
    "\n",
    "prompt = hub.pull(\"rlm/rag-prompt\")"
   ]
  },
  {
   "cell_type": "code",
   "execution_count": 10,
   "id": "77a09929-3b3b-41d2-b227-1f8a9eb40281",
   "metadata": {},
   "outputs": [],
   "source": [
    "reviews_retriever = reviews_vector_db.as_retriever(k=10)\n",
    "\n",
    "review_chain = (\n",
    "    {\"context\": reviews_retriever, \"question\": RunnablePassthrough()}\n",
    "    | review_prompt_template\n",
    "    # | prompt\n",
    "    | chat_model\n",
    "    | StrOutputParser()\n",
    ")"
   ]
  },
  {
   "cell_type": "code",
   "execution_count": 11,
   "id": "c65334b9-38a6-4290-a1a1-a6f439265083",
   "metadata": {},
   "outputs": [
    {
     "data": {
      "text/plain": [
       "\" I am a language model designed to understand and respond to questions or statements by generating human-like text. In this instance, I was initialized with a set of documents containing patient reviews of their experiences at various hospitals. I can use this context to answer questions about the reviews, such as details about the patient's experience with the hospital staff, food quality, cleanliness, and facilities. Please ask a specific question, and I will do my best to provide a detailed and accurate response, considering only the information present in the provided documents.\""
      ]
     },
     "execution_count": 11,
     "metadata": {},
     "output_type": "execute_result"
    }
   ],
   "source": [
    "review_chain.invoke(\"what are you\")"
   ]
  },
  {
   "cell_type": "code",
   "execution_count": 12,
   "id": "38a3b0e3-9089-4d8c-b8fb-b418815f07d6",
   "metadata": {},
   "outputs": [],
   "source": [
    "# review_chain.invoke(\"What do patients think about the triage system?\")"
   ]
  },
  {
   "cell_type": "code",
   "execution_count": 13,
   "id": "55beebfb-0802-4fb3-ba3d-5622639185b5",
   "metadata": {},
   "outputs": [],
   "source": [
    "docs = reviews_vector_db.max_marginal_relevance_search(\"what was the quality of food\",k=3)\n",
    "# docs"
   ]
  },
  {
   "cell_type": "markdown",
   "id": "9456b955-b1b2-4158-948f-d7ed723d175e",
   "metadata": {},
   "source": [
    "# Tools"
   ]
  },
  {
   "cell_type": "code",
   "execution_count": 14,
   "id": "69bc1014-d6cb-4171-9a0c-7e318b41a83d",
   "metadata": {},
   "outputs": [],
   "source": [
    "tools = [\n",
    "    Tool(\n",
    "        name=\"Reviews\",\n",
    "        func=review_chain.invoke,\n",
    "        description=\"\"\"Useful when you need to answer questions\n",
    "        about patient reviews or experiences at the hospital.\n",
    "        Not useful for answering questions about specific visit\n",
    "        details such as payer, billing, treatment, diagnosis,\n",
    "        chief complaint, hospital, or physician information.\n",
    "        Pass the entire question as input to the tool. For instance,\n",
    "        if the question is \"What do patients think about the triage system?\",\n",
    "        the input should be \"What do patients think about the triage system?\"\n",
    "        \"\"\",\n",
    "    ),\n",
    "    Tool(\n",
    "        name=\"Waits\",\n",
    "        func=get_current_wait_time,\n",
    "        description=\"\"\"Use when asked about current wait times\n",
    "        at a specific hospital. This tool can only get the current\n",
    "        wait time at a hospital and does not have any information about\n",
    "        aggregate or historical wait times. This tool returns wait times in\n",
    "        minutes. Do not pass the word \"hospital\" as input,\n",
    "        only the hospital name itself. For instance, if the question is\n",
    "        \"What is the wait time at hospital A?\", the input should be \"A\".\n",
    "        \"\"\",\n",
    "    ),\n",
    "]"
   ]
  },
  {
   "cell_type": "code",
   "execution_count": 15,
   "id": "f5f8feb2-d842-4bad-8c73-7f14107b2777",
   "metadata": {},
   "outputs": [],
   "source": [
    "# hospital_agent_prompt = hub.pull(\"hwchase17/openai-functions-agent\")\n",
    "hospital_agent_prompt = hub.pull(\"hwchase17/openai-tools-agent\")\n",
    "\n",
    "\n",
    "agent_chat_model = ChatOpenAI(\n",
    "    base_url=\"https://api.together.xyz/v1\",\n",
    "    api_key=\"24cdbdf50106e08f6ba3328ac07f97a73eb440ae36da6cdd72f9b091ccca850a\",\n",
    "    model=\"mistralai/Mixtral-8x7B-Instruct-v0.1\",\n",
    "    # model=\"META-LLAMA/LLAMA-3-8B-CHAT-HF\",\n",
    "    # model=\"google/gemma-2-27b-it\",\n",
    "    # temperature=0\n",
    ")\n",
    "\n",
    "from langchain.agents import create_tool_calling_agent\n",
    "hospital_agent = create_tool_calling_agent(\n",
    "    llm=agent_chat_model,\n",
    "    prompt=hospital_agent_prompt,\n",
    "    tools=tools,\n",
    ")\n",
    "# hospital_agent = create_openai_functions_agent(\n",
    "#     llm=agent_chat_model,\n",
    "#     prompt=hospital_agent_prompt,\n",
    "#     tools=tools,\n",
    "# )\n",
    "\n",
    "hospital_agent_executor = AgentExecutor(\n",
    "    agent=hospital_agent,\n",
    "    tools=tools,\n",
    "    return_intermediate_steps=True,\n",
    "    verbose=True,\n",
    ")"
   ]
  },
  {
   "cell_type": "code",
   "execution_count": 31,
   "id": "260b8c04-e7f8-4bd6-8d4b-c2e45d39354c",
   "metadata": {},
   "outputs": [
    {
     "name": "stdout",
     "output_type": "stream",
     "text": [
      "\n",
      "\n",
      "\u001b[1m> Entering new AgentExecutor chain...\u001b[0m\n",
      "\u001b[32;1m\u001b[1;3m\n",
      "Invoking: `Reviews` with `what are patient experiences at Pugh Rogers hospital?`\n",
      "\n",
      "\n",
      "\u001b[0m\u001b[36;1m\u001b[1;3m Based on the context provided, there are two patient reviews about their experiences at Pugh-Rogers hospital.\n",
      "\n",
      "The first patient, Jamie Jones (review\\_id: 300, visit\\_id: 9363), had a mixed experience at the hospital. They received good medical care, but the lack of communication between the staff and them made their stay less enjoyable.\n",
      "\n",
      "The second patient, Nicole Bradley (review\\_id: 632, visit\\_id: 3421), had a generally positive experience at the hospital. They mentioned that the medical team was attentive but was bothered by the noise from neighboring rooms during their recovery.\n",
      "\n",
      "In summary, patients at Pugh-Rogers hospital have reported good medical care but have noted issues with communication and noise levels in the hospital.\u001b[0m\u001b[32;1m\u001b[1;3m Thank you for the information! Based on the reviews, it seems that while patients generally received good medical care at Pugh-Rogers hospital, there are areas for improvement in communication between staff and patients and in managing noise levels in the hospital. It's important for healthcare providers to address these concerns in order to enhance the overall patient experience.\u001b[0m\n",
      "\n",
      "\u001b[1m> Finished chain.\u001b[0m\n"
     ]
    },
    {
     "data": {
      "text/plain": [
       "{'input': 'what are patient experiences at Pugh Rogers hospital?',\n",
       " 'output': \" Thank you for the information! Based on the reviews, it seems that while patients generally received good medical care at Pugh-Rogers hospital, there are areas for improvement in communication between staff and patients and in managing noise levels in the hospital. It's important for healthcare providers to address these concerns in order to enhance the overall patient experience.\",\n",
       " 'intermediate_steps': [(ToolAgentAction(tool='Reviews', tool_input='what are patient experiences at Pugh Rogers hospital?', log='\\nInvoking: `Reviews` with `what are patient experiences at Pugh Rogers hospital?`\\n\\n\\n', message_log=[AIMessageChunk(content='', additional_kwargs={'tool_calls': [{'index': 0, 'id': 'call_muib8fhl01yznpdfevy9o3mp', 'function': {'arguments': '{\\n      \"__arg1\": \"what are patient experiences at Pugh Rogers hospital?\"\\n    }\\n  ', 'name': 'Reviews'}, 'type': 'function'}]}, id='run-9fbc9898-f729-4d27-9deb-82ee5c50bea7', tool_calls=[{'name': 'Reviews', 'args': {'__arg1': 'what are patient experiences at Pugh Rogers hospital?'}, 'id': 'call_muib8fhl01yznpdfevy9o3mp', 'type': 'tool_call'}], tool_call_chunks=[{'name': 'Reviews', 'args': '{\\n      \"__arg1\": \"what are patient experiences at Pugh Rogers hospital?\"\\n    }\\n  ', 'id': 'call_muib8fhl01yznpdfevy9o3mp', 'index': 0, 'type': 'tool_call_chunk'}])], tool_call_id='call_muib8fhl01yznpdfevy9o3mp'),\n",
       "   ' Based on the context provided, there are two patient reviews about their experiences at Pugh-Rogers hospital.\\n\\nThe first patient, Jamie Jones (review\\\\_id: 300, visit\\\\_id: 9363), had a mixed experience at the hospital. They received good medical care, but the lack of communication between the staff and them made their stay less enjoyable.\\n\\nThe second patient, Nicole Bradley (review\\\\_id: 632, visit\\\\_id: 3421), had a generally positive experience at the hospital. They mentioned that the medical team was attentive but was bothered by the noise from neighboring rooms during their recovery.\\n\\nIn summary, patients at Pugh-Rogers hospital have reported good medical care but have noted issues with communication and noise levels in the hospital.')]}"
      ]
     },
     "execution_count": 31,
     "metadata": {},
     "output_type": "execute_result"
    }
   ],
   "source": [
    "hospital_agent_executor.invoke({\"input\":\"what are patient experiences at Pugh Rogers hospital?\"})"
   ]
  },
  {
   "cell_type": "code",
   "execution_count": 32,
   "id": "7b91a751-7634-4261-9fc8-16160b94e254",
   "metadata": {},
   "outputs": [
    {
     "name": "stdout",
     "output_type": "stream",
     "text": [
      "\n",
      "\n",
      "\u001b[1m> Entering new AgentExecutor chain...\u001b[0m\n",
      "\u001b[32;1m\u001b[1;3m\n",
      "Invoking: `Waits` with `A`\n",
      "\n",
      "\n",
      "\u001b[0m\u001b[33;1m\u001b[1;3m1164\u001b[0m\u001b[32;1m\u001b[1;3m\n",
      "Invoking: `Reviews` with `What do patients think about the triage system?`\n",
      "\n",
      "\n",
      "\u001b[0m\u001b[36;1m\u001b[1;3m The context does not provide any information about the patients' thoughts or experiences specifically related to the triage system at the hospitals. The reviews mention various aspects of the hospital experience, such as the attentiveness of doctors, cleanliness, discharge process, and TV channels in patient rooms, but there is no mention of the triage system.\u001b[0m\u001b[32;1m\u001b[1;3m Yes, you are correct. The database does not provide information regarding the patients' thoughts or experiences about the triage system. It only offers a general overview of the hospital experience and does not focus on specific aspects of the triage system.\u001b[0m\n",
      "\n",
      "\u001b[1m> Finished chain.\u001b[0m\n"
     ]
    },
    {
     "data": {
      "text/plain": [
       "{'input': 'What is the wait time at hospital A?',\n",
       " 'output': \" Yes, you are correct. The database does not provide information regarding the patients' thoughts or experiences about the triage system. It only offers a general overview of the hospital experience and does not focus on specific aspects of the triage system.\",\n",
       " 'intermediate_steps': [(ToolAgentAction(tool='Waits', tool_input='A', log='\\nInvoking: `Waits` with `A`\\n\\n\\n', message_log=[AIMessageChunk(content='', additional_kwargs={'tool_calls': [{'index': 0, 'id': 'call_akm6cchwe7ojrpzd98ddtypk', 'function': {'arguments': '{\\n      \"__arg1\": \"A\"\\n    }\\n  ', 'name': 'Waits'}, 'type': 'function'}]}, id='run-a01d7248-a359-48e5-9f25-78cc1400853d', tool_calls=[{'name': 'Waits', 'args': {'__arg1': 'A'}, 'id': 'call_akm6cchwe7ojrpzd98ddtypk', 'type': 'tool_call'}], tool_call_chunks=[{'name': 'Waits', 'args': '{\\n      \"__arg1\": \"A\"\\n    }\\n  ', 'id': 'call_akm6cchwe7ojrpzd98ddtypk', 'index': 0, 'type': 'tool_call_chunk'}])], tool_call_id='call_akm6cchwe7ojrpzd98ddtypk'),\n",
       "   1164),\n",
       "  (ToolAgentAction(tool='Reviews', tool_input='What do patients think about the triage system?', log='\\nInvoking: `Reviews` with `What do patients think about the triage system?`\\n\\n\\n', message_log=[AIMessageChunk(content='', additional_kwargs={'tool_calls': [{'index': 0, 'id': 'call_yr3ka8omptby1pw9c15r9ksm', 'function': {'arguments': '{\\n      \"__arg1\": \"What do patients think about the triage system?\"\\n    }\\n  ', 'name': 'Reviews'}, 'type': 'function'}]}, id='run-3cf53d19-6db9-44fc-861f-8d0958ff8b01', tool_calls=[{'name': 'Reviews', 'args': {'__arg1': 'What do patients think about the triage system?'}, 'id': 'call_yr3ka8omptby1pw9c15r9ksm', 'type': 'tool_call'}], tool_call_chunks=[{'name': 'Reviews', 'args': '{\\n      \"__arg1\": \"What do patients think about the triage system?\"\\n    }\\n  ', 'id': 'call_yr3ka8omptby1pw9c15r9ksm', 'index': 0, 'type': 'tool_call_chunk'}])], tool_call_id='call_yr3ka8omptby1pw9c15r9ksm'),\n",
       "   \" The context does not provide any information about the patients' thoughts or experiences specifically related to the triage system at the hospitals. The reviews mention various aspects of the hospital experience, such as the attentiveness of doctors, cleanliness, discharge process, and TV channels in patient rooms, but there is no mention of the triage system.\")]}"
      ]
     },
     "execution_count": 32,
     "metadata": {},
     "output_type": "execute_result"
    }
   ],
   "source": [
    "hospital_agent_executor.invoke({\"input\":\"What is the wait time at hospital A?\"})"
   ]
  },
  {
   "cell_type": "code",
   "execution_count": null,
   "id": "721a9a99-407d-4279-93a1-3929098b8b73",
   "metadata": {},
   "outputs": [],
   "source": []
  },
  {
   "cell_type": "code",
   "execution_count": 18,
   "id": "aaa88267-d301-4669-905d-cc3f9ade9852",
   "metadata": {},
   "outputs": [],
   "source": []
  },
  {
   "cell_type": "code",
   "execution_count": 1,
   "id": "add4a06e-4de7-454f-9d53-72a13a63d0a9",
   "metadata": {},
   "outputs": [],
   "source": []
  },
  {
   "cell_type": "code",
   "execution_count": 33,
   "id": "642b0538-d7e6-4bb1-968a-25b87e992918",
   "metadata": {},
   "outputs": [],
   "source": [
    "# # print(hospital_agent_executor)\n",
    "# for i in hospital_agent_executor:\n",
    "#     print(i)"
   ]
  },
  {
   "cell_type": "code",
   "execution_count": null,
   "id": "b37a847c-2c5f-4702-864a-f6567c45848d",
   "metadata": {},
   "outputs": [],
   "source": []
  }
 ],
 "metadata": {
  "kernelspec": {
   "display_name": "Python 3 (ipykernel)",
   "language": "python",
   "name": "python3"
  },
  "language_info": {
   "codemirror_mode": {
    "name": "ipython",
    "version": 3
   },
   "file_extension": ".py",
   "mimetype": "text/x-python",
   "name": "python",
   "nbconvert_exporter": "python",
   "pygments_lexer": "ipython3",
   "version": "3.10.13"
  }
 },
 "nbformat": 4,
 "nbformat_minor": 5
}
