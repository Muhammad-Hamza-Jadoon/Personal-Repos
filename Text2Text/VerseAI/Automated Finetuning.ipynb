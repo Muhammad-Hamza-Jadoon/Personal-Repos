{
 "cells": [
  {
   "cell_type": "code",
   "execution_count": null,
   "id": "e49430ea",
   "metadata": {},
   "outputs": [],
   "source": [
    "import pandas as pd\n",
    "import numpy as np\n",
    "import pandas as pd\n",
    "from datasets import Dataset\n",
    "\n",
    "from transformers import AutoModelForSeq2SeqLM, AutoTokenizer\n",
    "# from transformers import DataCollatorForSeq2SeqLM\n",
    "from transformers import DataCollatorForSeq2Seq\n",
    "from transformers import Trainer, TrainingArguments"
   ]
  },
  {
   "cell_type": "code",
   "execution_count": 2,
   "id": "43efb6cc-cad2-4951-b2af-eae2c039f44a",
   "metadata": {},
   "outputs": [
    {
     "data": {
      "text/html": [
       "<div>\n",
       "<style scoped>\n",
       "    .dataframe tbody tr th:only-of-type {\n",
       "        vertical-align: middle;\n",
       "    }\n",
       "\n",
       "    .dataframe tbody tr th {\n",
       "        vertical-align: top;\n",
       "    }\n",
       "\n",
       "    .dataframe thead th {\n",
       "        text-align: right;\n",
       "    }\n",
       "</style>\n",
       "<table border=\"1\" class=\"dataframe\">\n",
       "  <thead>\n",
       "    <tr style=\"text-align: right;\">\n",
       "      <th></th>\n",
       "      <th>output</th>\n",
       "      <th>input</th>\n",
       "    </tr>\n",
       "  </thead>\n",
       "  <tbody>\n",
       "    <tr>\n",
       "      <th>0</th>\n",
       "      <td>loneliness\\nhis childhood\\nwarms him up\\nlonel...</td>\n",
       "      <td>generate a poem by the following author: johnt...</td>\n",
       "    </tr>\n",
       "    <tr>\n",
       "      <th>1</th>\n",
       "      <td>Sit in a chair\\nalone\\nPeople I thought were\\n...</td>\n",
       "      <td>generate a poem by the following author: Deana...</td>\n",
       "    </tr>\n",
       "    <tr>\n",
       "      <th>2</th>\n",
       "      <td>Tell me why it has to be this way\\nwhy I must ...</td>\n",
       "      <td>generate a poem by the following author: Deana...</td>\n",
       "    </tr>\n",
       "    <tr>\n",
       "      <th>3</th>\n",
       "      <td>A debtor to mercy alone, of covenant mercy I s...</td>\n",
       "      <td>generate a poem by the following author: Augus...</td>\n",
       "    </tr>\n",
       "    <tr>\n",
       "      <th>4</th>\n",
       "      <td>A year has been passed since I left home\\nAgai...</td>\n",
       "      <td>generate a poem by the following author: RaviS...</td>\n",
       "    </tr>\n",
       "    <tr>\n",
       "      <th>...</th>\n",
       "      <td>...</td>\n",
       "      <td>...</td>\n",
       "    </tr>\n",
       "    <tr>\n",
       "      <th>14330</th>\n",
       "      <td>We may roam through this world, like a child a...</td>\n",
       "      <td>generate a poem by the following author: Thoma...</td>\n",
       "    </tr>\n",
       "    <tr>\n",
       "      <th>14331</th>\n",
       "      <td>When you were born in this world\\nEveryone lau...</td>\n",
       "      <td>generate a poem by the following author: Kabir...</td>\n",
       "    </tr>\n",
       "    <tr>\n",
       "      <th>14332</th>\n",
       "      <td>When I cast a look around the world,\\nI marvel...</td>\n",
       "      <td>generate a poem by the following author: MacAr...</td>\n",
       "    </tr>\n",
       "    <tr>\n",
       "      <th>14333</th>\n",
       "      <td>WORLD, take good notice, silver stars fading,\\...</td>\n",
       "      <td>generate a poem by the following author: WaltW...</td>\n",
       "    </tr>\n",
       "    <tr>\n",
       "      <th>14334</th>\n",
       "      <td>World was in the face of the beloved--,\\nbut s...</td>\n",
       "      <td>generate a poem by the following author: Raine...</td>\n",
       "    </tr>\n",
       "  </tbody>\n",
       "</table>\n",
       "<p>14335 rows × 2 columns</p>\n",
       "</div>"
      ],
      "text/plain": [
       "                                                  output  \\\n",
       "0      loneliness\\nhis childhood\\nwarms him up\\nlonel...   \n",
       "1      Sit in a chair\\nalone\\nPeople I thought were\\n...   \n",
       "2      Tell me why it has to be this way\\nwhy I must ...   \n",
       "3      A debtor to mercy alone, of covenant mercy I s...   \n",
       "4      A year has been passed since I left home\\nAgai...   \n",
       "...                                                  ...   \n",
       "14330  We may roam through this world, like a child a...   \n",
       "14331  When you were born in this world\\nEveryone lau...   \n",
       "14332  When I cast a look around the world,\\nI marvel...   \n",
       "14333  WORLD, take good notice, silver stars fading,\\...   \n",
       "14334  World was in the face of the beloved--,\\nbut s...   \n",
       "\n",
       "                                                   input  \n",
       "0      generate a poem by the following author: johnt...  \n",
       "1      generate a poem by the following author: Deana...  \n",
       "2      generate a poem by the following author: Deana...  \n",
       "3      generate a poem by the following author: Augus...  \n",
       "4      generate a poem by the following author: RaviS...  \n",
       "...                                                  ...  \n",
       "14330  generate a poem by the following author: Thoma...  \n",
       "14331  generate a poem by the following author: Kabir...  \n",
       "14332  generate a poem by the following author: MacAr...  \n",
       "14333  generate a poem by the following author: WaltW...  \n",
       "14334  generate a poem by the following author: Raine...  \n",
       "\n",
       "[14335 rows x 2 columns]"
      ]
     },
     "execution_count": 2,
     "metadata": {},
     "output_type": "execute_result"
    }
   ],
   "source": [
    "df = pd.read_csv(\"data/data_.csv\")\n",
    "df"
   ]
  },
  {
   "cell_type": "code",
   "execution_count": 3,
   "id": "e5fb6781-7300-4220-9f53-349779bf0fc2",
   "metadata": {},
   "outputs": [
    {
     "name": "stderr",
     "output_type": "stream",
     "text": [
      "c:\\Users\\HamzaJadoon\\anaconda3\\envs\\myenv\\Lib\\site-packages\\transformers\\tokenization_utils_base.py:1601: FutureWarning: `clean_up_tokenization_spaces` was not set. It will be set to `True` by default. This behavior will be depracted in transformers v4.45, and will be then set to `False` by default. For more details check this issue: https://github.com/huggingface/transformers/issues/31884\n",
      "  warnings.warn(\n"
     ]
    }
   ],
   "source": [
    "model_name = \"google/flan-t5-small\"\n",
    "model = AutoModelForSeq2SeqLM.from_pretrained(model_name)\n",
    "tokenizer = AutoTokenizer.from_pretrained(model_name)"
   ]
  },
  {
   "cell_type": "code",
   "execution_count": 4,
   "id": "8dd6eb45-a1ee-4ff5-a756-f96c02439c47",
   "metadata": {},
   "outputs": [
    {
     "data": {
      "text/plain": [
       "Dataset({\n",
       "    features: ['output', 'input'],\n",
       "    num_rows: 14335\n",
       "})"
      ]
     },
     "execution_count": 4,
     "metadata": {},
     "output_type": "execute_result"
    }
   ],
   "source": [
    "data_dict = df.to_dict(orient='list')\n",
    "dataset = Dataset.from_dict(data_dict)\n",
    "dataset"
   ]
  },
  {
   "cell_type": "code",
   "execution_count": 5,
   "id": "4f90d75d-239c-4143-b08f-30cba16285e0",
   "metadata": {},
   "outputs": [
    {
     "data": {
      "application/vnd.jupyter.widget-view+json": {
       "model_id": "e71bb9a1b4604a8696f204e34630c7ed",
       "version_major": 2,
       "version_minor": 0
      },
      "text/plain": [
       "Map:   0%|          | 0/14335 [00:00<?, ? examples/s]"
      ]
     },
     "metadata": {},
     "output_type": "display_data"
    }
   ],
   "source": [
    "def prepare_data(data):\n",
    "\n",
    "    # print(\"\\n\\n\\nKeys:\", list(data.keys()))\n",
    "    # for key, value in data.items():\n",
    "    #     print(\".................................................\")\n",
    "    #     print(\"here is key ---->>>\",key)\n",
    "    #     print(\"here is value ---->>>\",value)\n",
    "        \n",
    "    model_inputs = tokenizer(data[\"input\"], max_length=512, truncation=True, padding=\"max_length\")\n",
    "    labels = tokenizer(data[\"output\"], max_length=512, truncation=True, padding=\"max_length\")\n",
    "    model_inputs[\"label\"] = labels[\"input_ids\"]\n",
    "    \n",
    "    # print(\"\\n\\n\\nKeys:\", list(model_inputs.keys()))\n",
    "    # print(\"labels:\", list(labels.keys()))\n",
    "    # print(model_inputs[\"input_ids\"])\n",
    "    # print(model_inputs[\"attention_mask\"])\n",
    "    # print(labels[\"attention_mask\"])\n",
    "\n",
    "    return model_inputs\n",
    "\n",
    "# tokenized_dataset has tokenized inputs, their attention masks and tokenized labels\n",
    "tokenized_dataset = dataset.map(prepare_data)\n",
    "\n",
    "# for row in dataset[\"content\"]:\n",
    "#     # prepare_data({\"content\": row})\n",
    "#     prepare_data(row)\n",
    "#     break "
   ]
  },
  {
   "cell_type": "code",
   "execution_count": 6,
   "id": "600ea609",
   "metadata": {},
   "outputs": [
    {
     "data": {
      "text/plain": [
       "Dataset({\n",
       "    features: ['output', 'input', 'input_ids', 'attention_mask', 'label'],\n",
       "    num_rows: 14335\n",
       "})"
      ]
     },
     "execution_count": 6,
     "metadata": {},
     "output_type": "execute_result"
    }
   ],
   "source": [
    "tokenized_dataset"
   ]
  },
  {
   "cell_type": "code",
   "execution_count": 7,
   "id": "622f9c46",
   "metadata": {},
   "outputs": [],
   "source": [
    "# print(tokenized_dataset['input'][0])\n",
    "# print(tokenized_dataset['output'][0])\n",
    "\n",
    "# print('\\n',tokenized_dataset['input_ids'][0])\n",
    "# print(tokenized_dataset['labels'][0])"
   ]
  },
  {
   "cell_type": "code",
   "execution_count": 8,
   "id": "0c457aa2-6f48-4842-8579-0d8e3045007a",
   "metadata": {},
   "outputs": [],
   "source": [
    "# Remove unnecessary columns\n",
    "columns_to_remove = ['output', 'input']\n",
    "tokenized_dataset = tokenized_dataset.remove_columns(columns_to_remove)\n",
    "\n",
    "# Split the dataset\n",
    "train_test_split = tokenized_dataset.train_test_split(test_size=0.1)\n",
    "train_dataset = train_test_split['train']\n",
    "eval_dataset = train_test_split['test']\n",
    "\n",
    "# Set the format of your dataset\n",
    "train_dataset.set_format(type=\"torch\", columns=[\"input_ids\", \"attention_mask\", \"label\"])\n",
    "eval_dataset.set_format(type=\"torch\", columns=[\"input_ids\", \"attention_mask\", \"label\"])\n",
    "\n",
    "# Check a few examples\n",
    "# print(train_dataset[0])\n",
    "# print(tokenizer.decode(train_dataset[0]['input_ids']))\n",
    "# print(tokenizer.decode(train_dataset[0]['label_ids']))\n",
    "\n",
    "data_collator = DataCollatorForSeq2Seq(tokenizer=tokenizer, model=model)"
   ]
  },
  {
   "cell_type": "code",
   "execution_count": 9,
   "id": "cd02930b",
   "metadata": {},
   "outputs": [
    {
     "name": "stdout",
     "output_type": "stream",
     "text": [
      "dict_keys(['input_ids', 'attention_mask', 'label'])\n"
     ]
    }
   ],
   "source": [
    "print(train_dataset[12000].keys())"
   ]
  },
  {
   "cell_type": "code",
   "execution_count": 10,
   "id": "23dd91d6-806b-4b69-b510-7e0af7c8f8f7",
   "metadata": {},
   "outputs": [
    {
     "name": "stderr",
     "output_type": "stream",
     "text": [
      "c:\\Users\\HamzaJadoon\\anaconda3\\envs\\myenv\\Lib\\site-packages\\transformers\\training_args.py:1525: FutureWarning: `evaluation_strategy` is deprecated and will be removed in version 4.46 of 🤗 Transformers. Use `eval_strategy` instead\n",
      "  warnings.warn(\n"
     ]
    }
   ],
   "source": [
    "training_args = TrainingArguments(\n",
    "    output_dir=\"./results\",\n",
    "    num_train_epochs=3,\n",
    "    per_device_train_batch_size=8,\n",
    "    per_device_eval_batch_size=8,\n",
    "    warmup_steps=500,\n",
    "    weight_decay=0.01,\n",
    "    logging_dir=\"./logs\",\n",
    "    evaluation_strategy=\"epoch\",\n",
    ")\n",
    "trainer = Trainer(\n",
    "    model=model,\n",
    "    args=training_args,\n",
    "    train_dataset=train_dataset,\n",
    "    eval_dataset=eval_dataset,\n",
    "    tokenizer=tokenizer,\n",
    "    data_collator=data_collator,\n",
    ")"
   ]
  },
  {
   "cell_type": "code",
   "execution_count": 12,
   "id": "15efa038-22ae-4175-a558-1969f3b4c2ff",
   "metadata": {},
   "outputs": [],
   "source": [
    "# trainer.train()"
   ]
  },
  {
   "cell_type": "code",
   "execution_count": null,
   "id": "19f61449-4291-4a4b-af42-780212386446",
   "metadata": {},
   "outputs": [],
   "source": [
    "eval_results = trainer.evaluate()\n",
    "print(eval_results)"
   ]
  },
  {
   "cell_type": "code",
   "execution_count": null,
   "id": "622fd42c-98ca-4b52-81b4-4419e90773f6",
   "metadata": {},
   "outputs": [],
   "source": []
  },
  {
   "cell_type": "code",
   "execution_count": null,
   "id": "f174ac67",
   "metadata": {},
   "outputs": [],
   "source": []
  },
  {
   "cell_type": "code",
   "execution_count": null,
   "id": "5b93d72f",
   "metadata": {},
   "outputs": [],
   "source": []
  }
 ],
 "metadata": {
  "kernelspec": {
   "display_name": "Python 3 (ipykernel)",
   "language": "python",
   "name": "python3"
  },
  "language_info": {
   "codemirror_mode": {
    "name": "ipython",
    "version": 3
   },
   "file_extension": ".py",
   "mimetype": "text/x-python",
   "name": "python",
   "nbconvert_exporter": "python",
   "pygments_lexer": "ipython3",
   "version": "3.12.4"
  }
 },
 "nbformat": 4,
 "nbformat_minor": 5
}
