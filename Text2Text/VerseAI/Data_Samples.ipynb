{
 "cells": [
  {
   "cell_type": "code",
   "execution_count": null,
   "metadata": {},
   "outputs": [],
   "source": [
    "import torch\n",
    "import gc\n",
    "import pandas as pd\n",
    "import os\n",
    "from torch.utils.data import TensorDataset, DataLoader\n",
    "from transformers import AutoTokenizer, AutoModelForSeq2SeqLM\n",
    "from pprint import pprint\n",
    "import re\n",
    "from datasets import load_dataset"
   ]
  },
  {
   "cell_type": "code",
   "execution_count": null,
   "metadata": {},
   "outputs": [],
   "source": [
    "\n",
    "df = load_dataset(\"merve/poetry\")['train'].to_pandas() \n",
    "df"
   ]
  },
  {
   "cell_type": "code",
   "execution_count": null,
   "metadata": {},
   "outputs": [],
   "source": [
    "df.describe()"
   ]
  },
  {
   "cell_type": "code",
   "execution_count": null,
   "metadata": {},
   "outputs": [],
   "source": [
    "from pyvis.network import Network\n",
    "\n",
    "# Create a pyvis Network object\n",
    "net = Network(height=\"750px\", width=\"100%\", directed=False, notebook=True)\n",
    "counter = 0\n",
    "# Iterate through the dictionary to create the network\n",
    "for author, titles in author_dict.items():\n",
    "    print(author)\n",
    "    # Add the author as a node\n",
    "    net.add_node(author, label=author, color='blue', shape='circle')\n",
    "    \n",
    "    # Add each title and link it to the author\n",
    "    for title, poems in titles.items():\n",
    "        net.add_node(title, label=title, color='green', shape='box')\n",
    "        net.add_edge(author, title)\n",
    "        \n",
    "        # Add each poem and link it to the title\n",
    "        for poem in poems:\n",
    "            poem_node = poem[:30] + \"...\"  # Limit the poem text to the first 30 characters for readability\n",
    "            net.add_node(poem_node, label=poem_node, color='orange', shape='ellipse')\n",
    "            net.add_edge(title, poem_node)\n",
    "    break"
   ]
  },
  {
   "cell_type": "code",
   "execution_count": null,
   "metadata": {},
   "outputs": [],
   "source": []
  },
  {
   "cell_type": "code",
   "execution_count": null,
   "metadata": {},
   "outputs": [],
   "source": []
  },
  {
   "cell_type": "code",
   "execution_count": null,
   "metadata": {},
   "outputs": [],
   "source": [
    "import pandas as pd\n",
    "\n",
    "df = pd.read_csv(\"hf://datasets/merve/poetry/poetry.csv\")\n",
    "df"
   ]
  },
  {
   "cell_type": "code",
   "execution_count": null,
   "metadata": {},
   "outputs": [],
   "source": [
    "unique_counts_per_column = df.nunique()\n",
    "pprint(unique_counts_per_column)"
   ]
  },
  {
   "cell_type": "code",
   "execution_count": null,
   "metadata": {},
   "outputs": [],
   "source": [
    "df['author'].unique()"
   ]
  },
  {
   "cell_type": "code",
   "execution_count": null,
   "metadata": {},
   "outputs": [],
   "source": [
    "william = df[df['author'] == 'WILLIAM SHAKESPEARE']\n",
    "william"
   ]
  },
  {
   "cell_type": "code",
   "execution_count": null,
   "metadata": {},
   "outputs": [],
   "source": [
    "len(william['poem name'].unique())\n",
    "\n",
    "william['type'].describe()"
   ]
  },
  {
   "cell_type": "code",
   "execution_count": null,
   "metadata": {},
   "outputs": [],
   "source": [
    "william['type'].value_counts()"
   ]
  },
  {
   "cell_type": "code",
   "execution_count": null,
   "metadata": {},
   "outputs": [],
   "source": [
    "import numpy as np\n",
    "import pandas as pd\n",
    "import re\n",
    "from collections import Counter\n",
    "from pprint import pprint\n",
    "import re\n",
    "from collections import defaultdict\n",
    "\n",
    "\n",
    "\n",
    "splits = {'train': 'data/train-00000-of-00001-f9026b3e4b9aab48.parquet', 'validation': 'data/validation-00000-of-00001-8b9ddb74a3fd048e.parquet', 'test': 'data/test-00000-of-00001-1c0e7b1de7a62c6e.parquet'}\n",
    "d_ = pd.read_parquet(\"hf://datasets/isaacrehg/poetry-instructions/\" + splits[\"train\"])\n",
    "\n",
    "data = d_.to_numpy()\n",
    "data.shape\n",
    "\n",
    "d = []\n",
    "for index, text in enumerate(data):\n",
    "\n",
    "    d1 = []\n",
    "    user_match = re.search(r'User:(.*?)Assistant:', text[0], re.DOTALL)\n",
    "    assistant_match = re.search(r'Assistant:(.*)', text[0], re.DOTALL)\n",
    "    user_text = user_match.group(1).strip() if user_match else \"\"\n",
    "    assistant_text = assistant_match.group(1).strip() if assistant_match else \"\"\n",
    "    d1.append(user_text)\n",
    "    d1.append(assistant_text)\n",
    "    d.append(d1)\n",
    "\n",
    "dic = {\n",
    "        \"poetry-completion\":[],\n",
    "        \"style\":[],\n",
    "        \"about\":[],\n",
    "        \"about-style\":[]\n",
    "}\n",
    "for i in d:\n",
    "    \n",
    "    if 'Can you continue this poem for me?' in i[0]:\n",
    "        dic[\"poetry-completion\"].append(i)\n",
    "\n",
    "    elif 'Can you write a poem for me in the style of' in i[0]:\n",
    "        dic[\"style\"].append(i)\n",
    "\n",
    "    elif 'Can you write me a poem about' in i[0] and 'in the style of' in i[0]:\n",
    "        dic[\"about-style\"].append(i)\n",
    "\n",
    "    elif 'Can you write me a poem about' in i[0]:\n",
    "        dic[\"about\"].append(i)\n",
    "\n",
    "\n",
    "pprint(len(dic[\"poetry-completion\"]))\n",
    "pprint(len(dic[\"style\"]))\n",
    "pprint(len(dic[\"about\"]))\n",
    "pprint(len(dic[\"about-style\"]))\n",
    "\n",
    "pprint(dic[\"about-style\"][5][0])\n",
    "\n",
    "author_poems = defaultdict(list)\n",
    "author_count = defaultdict(int)\n",
    "author_pattern = r'in the style of (.+?)\\?'\n",
    "\n",
    "# Iterate over the data\n",
    "for entry in dic[\"about-style\"]:\n",
    "    user_text = entry[0]\n",
    "    match = re.search(author_pattern, user_text)\n",
    "    if match:\n",
    "        author = match.group(1).strip()\n",
    "        author_poems[author].append(entry)\n",
    "        author_count[author] += 1\n",
    "\n",
    "    \n",
    "# # Print the authors and their poem counts\n",
    "total =0\n",
    "for author, count in author_count.items():\n",
    "    print(f\"Author: {author}, Number of Poems: {count}\")\n",
    "    total+=1\n",
    "\n",
    "pprint(author_poems[\"WILLIAM SHAKESPEARE\"][9])"
   ]
  },
  {
   "cell_type": "code",
   "execution_count": null,
   "metadata": {},
   "outputs": [],
   "source": []
  },
  {
   "cell_type": "code",
   "execution_count": null,
   "metadata": {},
   "outputs": [],
   "source": []
  },
  {
   "cell_type": "code",
   "execution_count": null,
   "metadata": {},
   "outputs": [],
   "source": [
    "_d_ = pd.read_csv(\"hf://datasets/matthh/gutenberg-poetry-corpus/gutenberg-poetry-dataset.csv\")\n",
    "_d_.info()\n",
    "unique_counts_per_column = _d_.nunique()\n",
    "pprint(unique_counts_per_column)"
   ]
  },
  {
   "cell_type": "code",
   "execution_count": null,
   "metadata": {},
   "outputs": [],
   "source": []
  },
  {
   "cell_type": "code",
   "execution_count": null,
   "metadata": {},
   "outputs": [],
   "source": []
  }
 ],
 "metadata": {
  "kernelspec": {
   "display_name": "myenv",
   "language": "python",
   "name": "python3"
  },
  "language_info": {
   "name": "python",
   "version": "3.13.0"
  }
 },
 "nbformat": 4,
 "nbformat_minor": 2
}
