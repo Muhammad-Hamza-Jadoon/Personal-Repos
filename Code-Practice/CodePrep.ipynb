{
 "cells": [
  {
   "cell_type": "code",
   "execution_count": 133,
   "metadata": {},
   "outputs": [],
   "source": [
    "import random\n",
    "\n",
    "class MyClass:\n",
    "\n",
    "    def __init__(self):\n",
    "        self.items = []\n",
    "        self.index = {}\n",
    "\n",
    "    # Time complexity: O(1)\n",
    "    # Space complexity: O(1)\n",
    "    def insert(self, val):\n",
    "        if val not in self.items:\n",
    "            self.items.append(val)\n",
    "            self.index[val] = len(self.items)-1\n",
    "\n",
    "    # Time complexity: O(1)\n",
    "    # Space complexity: O(1)\n",
    "    def remove(self, val):\n",
    "        if val in self.index:\n",
    "            position = self.index[val]\n",
    "            last_element = self.items[-1]\n",
    "\n",
    "            self.items[position] = last_element\n",
    "            self.items.pop()\n",
    "\n",
    "            self.index[last_element] = position\n",
    "            del self.index[val]\n",
    "\n",
    "    # Time complexity: O(1)\n",
    "    # Space complexity: O(1)\n",
    "    def getRand(self):\n",
    "    #     print(random.choice(list(self.items))) -> O(N) -> list(self.items) ->coverting dic/set to list is time consuming\n",
    "        print(random.choice(self.items))\n",
    "    "
   ]
  },
  {
   "cell_type": "code",
   "execution_count": 134,
   "metadata": {},
   "outputs": [
    {
     "name": "stdout",
     "output_type": "stream",
     "text": [
      "[1, 2, 3, 4, 5, 6, 7]\n",
      "{1: 0, 2: 1, 3: 2, 4: 3, 5: 4, 6: 5, 7: 6}\n",
      "3\n",
      "[1, 2, 7, 4, 5, 6]\n",
      "{1: 0, 2: 1, 4: 3, 5: 4, 6: 5, 7: 2}\n"
     ]
    }
   ],
   "source": [
    "obj = MyClass()\n",
    "obj.insert(1)\n",
    "obj.insert(2)\n",
    "obj.insert(3)\n",
    "obj.insert(4)\n",
    "obj.insert(5)\n",
    "obj.insert(6)\n",
    "obj.insert(7)\n",
    "print(obj.items)\n",
    "print(obj.index)\n",
    "obj.getRand()\n",
    "obj.remove(3)\n",
    "print(obj.items)\n",
    "print(obj.index)"
   ]
  },
  {
   "cell_type": "code",
   "execution_count": 137,
   "metadata": {},
   "outputs": [
    {
     "name": "stdout",
     "output_type": "stream",
     "text": [
      "7\n"
     ]
    }
   ],
   "source": [
    "obj.getRand()"
   ]
  },
  {
   "cell_type": "code",
   "execution_count": null,
   "metadata": {},
   "outputs": [],
   "source": []
  }
 ],
 "metadata": {
  "kernelspec": {
   "display_name": "myenv",
   "language": "python",
   "name": "python3"
  },
  "language_info": {
   "codemirror_mode": {
    "name": "ipython",
    "version": 3
   },
   "file_extension": ".py",
   "mimetype": "text/x-python",
   "name": "python",
   "nbconvert_exporter": "python",
   "pygments_lexer": "ipython3",
   "version": "3.12.4"
  }
 },
 "nbformat": 4,
 "nbformat_minor": 2
}
