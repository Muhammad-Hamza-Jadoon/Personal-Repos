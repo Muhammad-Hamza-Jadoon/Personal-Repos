{
 "cells": [
  {
   "cell_type": "markdown",
   "id": "4286ad98",
   "metadata": {},
   "source": [
    "## Playing around with Linked List \n",
    "#### Insertions at end and beginning"
   ]
  },
  {
   "cell_type": "code",
   "execution_count": 51,
   "id": "6a4be901",
   "metadata": {},
   "outputs": [],
   "source": [
    "# I was working here\n",
    "\n",
    "class Node:\n",
    "    def __init__(self, data=None):\n",
    "        self.data = data\n",
    "        self.next = None\n",
    "        \n",
    "class LinkedList:\n",
    "    \n",
    "    def __init__(self):\n",
    "        self.head = None\n",
    "\n",
    "    def insertAtBeginning(self, data):\n",
    "        new_node = Node(data)\n",
    "        new_node.next = self.head\n",
    "        self.head = new_node\n",
    "    \n",
    "    def insertAtEnd(self, data):\n",
    "        new_node = Node(data)\n",
    "        if self.head is None:\n",
    "            self.head = new_node\n",
    "        else:\n",
    "            current = self.head\n",
    "            while current.next:\n",
    "                current = current.next\n",
    "            current.next = new_node\n",
    "\n",
    "    def insertAfter(self, prev, data):\n",
    "        new_node = Node(data)\n",
    "        if self.head == None:\n",
    "            print(\"not present\")\n",
    "            return\n",
    "        current = self.head\n",
    "        while current:\n",
    "            if current.data == prev:\n",
    "                new_node.next = current.next\n",
    "                current.next = new_node\n",
    "                return\n",
    "            else:\n",
    "                current = current.next\n",
    "\n",
    "    def DeleteAtBeginning(self):\n",
    "        if self.head == None:\n",
    "            print(\"not present\")\n",
    "            return\n",
    "        if self.head.next == None:\n",
    "            self.head = None\n",
    "        else:\n",
    "            self.head = self.head.next\n",
    "\n",
    "    def DeleteAtEnd(self):\n",
    "        if self.head == None:\n",
    "            print(\"not present\")\n",
    "            return\n",
    "        current = self.head\n",
    "        while current.next.next:\n",
    "            current = current.next\n",
    "        current.next = None\n",
    "\n",
    "\n",
    "    def DeleteAtPosition(self, pos):\n",
    "        if self.head == None:\n",
    "            print(\"not present\")\n",
    "            return\n",
    "        if self.head.next == None and pos == 0:\n",
    "            self.head = None\n",
    "        elif pos == 0:\n",
    "            self.head = self.head.next\n",
    "        cpos = 0\n",
    "        current = self.head\n",
    "        while current: \n",
    "            if cpos+1 == pos:\n",
    "                current.next = current.next.next\n",
    "                # if current.next == '2':\n",
    "                print(current.next.data)\n",
    "                return\n",
    "            current = current.next\n",
    "            cpos = cpos+1\n",
    "            \n",
    "\n",
    "    def DeleteValue(self, val):\n",
    "        if self.head == None:\n",
    "            print(\"not present\")\n",
    "            return\n",
    "        if self.head.data == val:\n",
    "            self.head = self.head.next\n",
    "        current = self.head\n",
    "        while current:\n",
    "            if current.data == val:\n",
    "                temp.next = current.next\n",
    "            temp = current\n",
    "            current = current.next\n",
    "    \n",
    "     # def Func1(self, key):\n",
    "    \n",
    "    def print_list(self):\n",
    "        current = self.head\n",
    "        while current:\n",
    "            print(current.data, end = ' -> ')\n",
    "            current = current.next\n",
    "        \n"
   ]
  },
  {
   "cell_type": "code",
   "execution_count": 52,
   "id": "86284017",
   "metadata": {},
   "outputs": [],
   "source": [
    "my_list = LinkedList()\n"
   ]
  },
  {
   "cell_type": "code",
   "execution_count": 53,
   "id": "39a26bf9",
   "metadata": {},
   "outputs": [
    {
     "name": "stdout",
     "output_type": "stream",
     "text": [
      "6 -> 5 -> 4 -> 1 -> 2 -> 3 -> 7 -> "
     ]
    }
   ],
   "source": [
    "my_list.insertAtEnd('1')\n",
    "my_list.insertAtEnd('2')\n",
    "my_list.insertAtEnd('3')\n",
    "my_list.insertAtBeginning('4')\n",
    "my_list.insertAtBeginning('5')\n",
    "my_list.insertAtBeginning('6')\n",
    "my_list.insertAtEnd('7')\n",
    "my_list.insertAfter('7','xxx')\n",
    "my_list.DeleteAtEnd()\n",
    "my_list.print_list()\n",
    "\n",
    "# my_list.print_list()  # Output: Node 1, Node 2, Node 3"
   ]
  },
  {
   "cell_type": "code",
   "execution_count": 54,
   "id": "83a24003",
   "metadata": {},
   "outputs": [
    {
     "name": "stdout",
     "output_type": "stream",
     "text": [
      "6 -> 5 -> 4 -> 1 -> 2 -> 3 -> 7 -> "
     ]
    }
   ],
   "source": [
    "# my_list.insertAfter('1','xxx')\n",
    "my_list.print_list()"
   ]
  },
  {
   "cell_type": "code",
   "execution_count": 55,
   "id": "0a7acd4d-8f8c-43de-a063-448204d8dc72",
   "metadata": {},
   "outputs": [
    {
     "name": "stdout",
     "output_type": "stream",
     "text": [
      "1\n",
      "6 -> 5 -> 1 -> 2 -> 3 -> 7 -> "
     ]
    }
   ],
   "source": [
    "my_list.DeleteAtPosition(2)\n",
    "my_list.print_list()"
   ]
  },
  {
   "cell_type": "code",
   "execution_count": 115,
   "id": "ed2ed6ae",
   "metadata": {},
   "outputs": [],
   "source": [
    "my_list.DeleteValue('4')\n",
    "my_list.print_list()"
   ]
  },
  {
   "cell_type": "code",
   "execution_count": 57,
   "id": "45074d11",
   "metadata": {},
   "outputs": [
    {
     "name": "stdout",
     "output_type": "stream",
     "text": [
      "s\n",
      "s\n",
      "s\n"
     ]
    }
   ],
   "source": [
    "for i in range(3):\n",
    "    print(\"s\")"
   ]
  },
  {
   "cell_type": "code",
   "execution_count": null,
   "id": "77dfd6a9",
   "metadata": {},
   "outputs": [],
   "source": []
  },
  {
   "cell_type": "code",
   "execution_count": null,
   "id": "45cbdfdf",
   "metadata": {},
   "outputs": [],
   "source": []
  },
  {
   "cell_type": "code",
   "execution_count": null,
   "id": "63f40f91-43d6-40ad-aa70-5afe74f8ff3b",
   "metadata": {},
   "outputs": [],
   "source": []
  },
  {
   "cell_type": "code",
   "execution_count": null,
   "id": "a52d1ee7-21b6-46ee-a140-77c56fb4af42",
   "metadata": {},
   "outputs": [],
   "source": []
  },
  {
   "cell_type": "code",
   "execution_count": null,
   "id": "c9f36712-d592-43c4-a4b2-ca3abe0de957",
   "metadata": {},
   "outputs": [],
   "source": []
  },
  {
   "cell_type": "code",
   "execution_count": null,
   "id": "46c76ad2-4666-4259-8cb1-39d9493d0f99",
   "metadata": {},
   "outputs": [],
   "source": []
  },
  {
   "cell_type": "code",
   "execution_count": null,
   "id": "ee8b6d84-01e2-447f-a539-7f4a9b269c39",
   "metadata": {},
   "outputs": [],
   "source": []
  },
  {
   "cell_type": "code",
   "execution_count": null,
   "id": "f3060379-e3e6-4542-93d2-acba2194e93d",
   "metadata": {},
   "outputs": [],
   "source": []
  },
  {
   "cell_type": "code",
   "execution_count": null,
   "id": "14683f7d-78dd-4950-9031-7a4ee07b1199",
   "metadata": {},
   "outputs": [],
   "source": [
    "# Definition for singly-linked list.\n",
    "# class ListNode(object):\n",
    "#     def __init__(self, val=0, next=None):\n",
    "#         self.val = val\n",
    "#         self.next = next\n",
    "class Solution(object):\n",
    "    def removeNthFromEnd(self, head, n):\n",
    "        \"\"\"\n",
    "        :type head: ListNode\n",
    "        :type n: int\n",
    "        :rtype: ListNode\n",
    "        \"\"\"\n",
    "        \n",
    "        if head.next == None and n==1:\n",
    "            head = head.next\n",
    "            return\n",
    "        \n",
    "        length = 0\n",
    "        current = head\n",
    "        while current:\n",
    "            current = current.next\n",
    "            length = length+1\n",
    "        \n",
    "        current = head\n",
    "        deletion_at = length-n\n",
    "        \n",
    "        if deletion_at == 0:\n",
    "            head = head.next\n",
    "            return head\n",
    "        \n",
    "        for i in range(int(deletion_at-1)):\n",
    "            current = current.next\n",
    "        current.next = current.next.next\n",
    "        return head\n",
    "\n",
    "        "
   ]
  },
  {
   "cell_type": "code",
   "execution_count": 1,
   "id": "ef6a642d-b183-42cd-8200-d512fbc0cf15",
   "metadata": {},
   "outputs": [],
   "source": [
    "class Solution(object):\n",
    "    def mergeTwoLists(self, list1, list2):\n",
    "        \"\"\"\n",
    "        :type list1: Optional[ListNode]\n",
    "        :type list2: Optional[ListNode]\n",
    "        :rtype: Optional[ListNode]\n",
    "        \"\"\"\n",
    "        # Create a dummy node to serve as the head of the merged list\n",
    "        dummy = ListNode(0)\n",
    "        current = dummy\n",
    "\n",
    "        # Merge the two lists\n",
    "        while list1 and list2:\n",
    "            if list1.val < list2.val:\n",
    "                current.next = list1\n",
    "                list1 = list1.next\n",
    "            else:\n",
    "                current.next = list2\n",
    "                list2 = list2.next\n",
    "            current = current.next\n",
    "\n",
    "        # Append the remaining nodes of list1 or list2\n",
    "        if list1:\n",
    "            current.next = list1\n",
    "        else:\n",
    "            current.next = list2\n",
    "\n",
    "        # Return the head of the merged list\n",
    "        return dummy.next"
   ]
  },
  {
   "cell_type": "code",
   "execution_count": null,
   "id": "6ad2ed82-c396-400c-b0c2-f872420178ca",
   "metadata": {},
   "outputs": [],
   "source": []
  },
  {
   "cell_type": "code",
   "execution_count": null,
   "id": "3e74c198-9b47-46e5-bc66-290532e46b83",
   "metadata": {},
   "outputs": [],
   "source": []
  },
  {
   "cell_type": "code",
   "execution_count": null,
   "id": "f512e894-738a-4f39-b8f1-76e1cee1b289",
   "metadata": {},
   "outputs": [],
   "source": []
  },
  {
   "cell_type": "code",
   "execution_count": null,
   "id": "8a015386-8a5e-44f5-9672-84c2476fdb2c",
   "metadata": {},
   "outputs": [],
   "source": []
  },
  {
   "cell_type": "code",
   "execution_count": null,
   "id": "6c72f3af-c376-4423-9582-2932571e55e2",
   "metadata": {},
   "outputs": [],
   "source": []
  },
  {
   "cell_type": "code",
   "execution_count": null,
   "id": "c60a55bc-cd1a-4299-be91-0486fdade1c4",
   "metadata": {},
   "outputs": [],
   "source": []
  },
  {
   "cell_type": "code",
   "execution_count": null,
   "id": "6c3811a8-9859-4abf-bd9a-bfd06cf72b21",
   "metadata": {},
   "outputs": [],
   "source": []
  },
  {
   "cell_type": "code",
   "execution_count": null,
   "id": "448f9ab5-1037-4fc3-9c62-b7de1c892088",
   "metadata": {},
   "outputs": [],
   "source": []
  },
  {
   "cell_type": "code",
   "execution_count": null,
   "id": "9f39dedb-bb3f-4cd2-999e-6f46416a0a8f",
   "metadata": {},
   "outputs": [],
   "source": []
  },
  {
   "cell_type": "code",
   "execution_count": null,
   "id": "ad79a263-c062-4a1c-9b0e-35b8bd7855fa",
   "metadata": {},
   "outputs": [],
   "source": []
  },
  {
   "cell_type": "code",
   "execution_count": null,
   "id": "54d6e340-086f-47ca-ab01-e06e4c6f0a99",
   "metadata": {},
   "outputs": [],
   "source": []
  },
  {
   "cell_type": "code",
   "execution_count": 29,
   "id": "af07d84b",
   "metadata": {},
   "outputs": [],
   "source": [
    "# Here's a question that tests concepts of linked lists and asks to perform a deletion operation based on certain conditions:\n",
    "# Question:\n",
    "# Write a function deleteNodesWithGreaterValue that takes the head of a singly linked list and an integer k as input. The \n",
    "# function should delete all nodes in the list that have a value greater than k. The function should return the head of the modified list.\n",
    "# Example:\n",
    "# Input: head = 1 -> 2 -> 3 -> 4 -> 5 -> NULL, k = 3\n",
    "# Output: 1 -> 2 -> 3 -> NULL\n",
    "# Constraints:\n",
    "# The linked list may contain duplicates.\n",
    "# The input list is non-empty. \n",
    "# The value of k is within the range of values in the list.\n",
    "# Evaluation Criteria:\n",
    "# Correctness: Does the function correctly delete all nodes with values greater than k?\n",
    "# Efficiency: Does the function have a time complexity of O(n), where n is the length of the input list?\n",
    "# Code quality: Is the code readable, maintainable, and free of errors?\n",
    "# Note:\n",
    "# This question tests the candidate's understanding of linked list operations, particularly deletion,\n",
    "# and their ability to write efficient and correct code. The condition of deleting nodes with values greater \n",
    "# than k adds an extra layer of complexity, requiring the candidate to think critically about the problem."
   ]
  },
  {
   "cell_type": "code",
   "execution_count": null,
   "id": "762408f6-31d0-4f1e-838e-7a64ff06f7b1",
   "metadata": {},
   "outputs": [],
   "source": []
  }
 ],
 "metadata": {
  "kernelspec": {
   "display_name": "Python 3 (ipykernel)",
   "language": "python",
   "name": "python3"
  },
  "language_info": {
   "codemirror_mode": {
    "name": "ipython",
    "version": 3
   },
   "file_extension": ".py",
   "mimetype": "text/x-python",
   "name": "python",
   "nbconvert_exporter": "python",
   "pygments_lexer": "ipython3",
   "version": "3.12.4"
  }
 },
 "nbformat": 4,
 "nbformat_minor": 5
}
