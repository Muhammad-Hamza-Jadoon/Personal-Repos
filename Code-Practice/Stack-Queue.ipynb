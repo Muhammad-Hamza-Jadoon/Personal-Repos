{
 "cells": [
  {
   "cell_type": "code",
   "execution_count": 1,
   "id": "59b48a38",
   "metadata": {},
   "outputs": [],
   "source": [
    "from collections import deque"
   ]
  },
  {
   "cell_type": "code",
   "execution_count": 21,
   "id": "ef3b769e-9539-4a54-beec-357f4907c16c",
   "metadata": {},
   "outputs": [],
   "source": [
    "class Stack:\n",
    "    def __init__(self):\n",
    "        # self.items = []\n",
    "        self.items = deque()\n",
    "\n",
    "    def push(self, item):\n",
    "        self.items.append(item)\n",
    "\n",
    "    def pop(self):\n",
    "        return self.items.pop()\n",
    "\n",
    "    def peek(self):\n",
    "        return self.items[-1]\n",
    "\n",
    "    def is_empty(self):\n",
    "        return not self.items\n",
    "    \n",
    "\n",
    "class Queue:\n",
    "    def __init__(self):\n",
    "        self.items = deque()\n",
    "\n",
    "    def enqueue(self, item):\n",
    "        self.items.append(item)  # O(1) time complexity\n",
    "\n",
    "    def dequeue(self):\n",
    "        return self.items.popleft()  # O(1) time complexity\n",
    "\n",
    "    def peek(self):\n",
    "        return self.items[0]  # Check the first element (front of the queue)\n",
    "    \n",
    "    def qsize(self):\n",
    "        return len(self.items)\n",
    "\n",
    "    def is_empty(self):\n",
    "        return not self.items  # Check if deque is empty\n"
   ]
  },
  {
   "cell_type": "markdown",
   "id": "1c35a7a1",
   "metadata": {},
   "source": [
    "## Space O(N) - reversing array stored in stack using extra space (list)"
   ]
  },
  {
   "cell_type": "code",
   "execution_count": 13,
   "id": "cfa08108-9d17-49d4-91be-2d00603a1941",
   "metadata": {},
   "outputs": [],
   "source": [
    "def reverse_list(stack):\n",
    "    reverse = []\n",
    "    while not stack.is_empty():\n",
    "        reverse.append(stack.pop())\n",
    "    return reverse\n",
    "\n",
    "stack = Stack()\n",
    "numbers = [1,4,3,2]\n",
    "for num in numbers:\n",
    "    stack.push(num)\n",
    "    \n",
    "reverse_list(stack)"
   ]
  },
  {
   "cell_type": "markdown",
   "id": "ea397a04",
   "metadata": {},
   "source": [
    "## Space O(N) - sorting with stack using extra space (stack)"
   ]
  },
  {
   "cell_type": "code",
   "execution_count": 35,
   "id": "5e4d366e",
   "metadata": {},
   "outputs": [
    {
     "data": {
      "text/plain": [
       "[1, 2, 3, 4, 5, 5, 9, 11, 65]"
      ]
     },
     "execution_count": 35,
     "metadata": {},
     "output_type": "execute_result"
    }
   ],
   "source": [
    "def sort_array_using_stack(arr):\n",
    "\n",
    "    sorted_arr = Stack()\n",
    "    while not stack.is_empty():\n",
    "        value = stack.pop()\n",
    "        if sorted_arr.is_empty():\n",
    "            sorted_arr.push(value)\n",
    "        else:\n",
    "            while not sorted_arr.is_empty() and sorted_arr.peek() > value:\n",
    "                stack.push(sorted_arr.pop())   \n",
    "            sorted_arr.push(value)\n",
    "\n",
    "    return sorted_arr.items\n",
    "\n",
    "stack = Stack()\n",
    "numbers = [3, 1, 4, 11, 5, 9, 2, 65, 5]\n",
    "# numbers = [6, 5, 4, 9, 8, 10]\n",
    "for num in numbers:\n",
    "    stack.push(num)\n",
    "sort_array_using_stack(stack)"
   ]
  },
  {
   "cell_type": "code",
   "execution_count": 33,
   "id": "2dac36ca-362c-49af-b304-292596b2d3e7",
   "metadata": {},
   "outputs": [
    {
     "data": {
      "text/plain": [
       "[1, 2, 3, 4, 5, 5, 6, 11, 99]"
      ]
     },
     "execution_count": 33,
     "metadata": {},
     "output_type": "execute_result"
    }
   ],
   "source": [
    "def sort_array_using_stack(arr):\n",
    "    stack = []\n",
    "    sorted_arr = []\n",
    "\n",
    "    for elem in arr:\n",
    "        stack.append(elem)\n",
    "\n",
    "    while stack:\n",
    "        elem = stack.pop()\n",
    "        # print(sorted_arr)\n",
    "        while sorted_arr and elem < sorted_arr[-1]:\n",
    "            stack.append(sorted_arr.pop())\n",
    "        sorted_arr.append(elem)\n",
    "\n",
    "    return sorted_arr\n",
    "\n",
    "# arr = [6,5,4,9,8,10]\n",
    "arr = [3, 11, 4, 1, 5, 99, 2, 6, 5]\n",
    "sort_array_using_stack(arr)"
   ]
  },
  {
   "cell_type": "markdown",
   "id": "3ce25d11-4790-41eb-96ac-c05245e64b0b",
   "metadata": {},
   "source": [
    "## Example sort_array_using_stack"
   ]
  },
  {
   "cell_type": "raw",
   "id": "9e2c0eac-7cec-4a45-b6fa-886811ca2bdc",
   "metadata": {},
   "source": [
    "Let's sort the array [6, 5, 4, 9, 8, 10] using the stack-based sorting approach. Here's a step-by-step explanation:\n",
    "\n",
    "Initial Setup\n",
    "arr = [6, 5, 4, 9, 8, 10]\n",
    "stack = []\n",
    "sorted_arr = []\n",
    "Push All Elements onto stack\n",
    "Push 6 onto stack: stack = [6]\n",
    "Push 5 onto stack: stack = [6, 5]\n",
    "Push 4 onto stack: stack = [6, 5, 4]\n",
    "Push 9 onto stack: stack = [6, 5, 4, 9]\n",
    "Push 8 onto stack: stack = [6, 5, 4, 9, 8]\n",
    "Push 10 onto stack: stack = [6, 5, 4, 9, 8, 10]\n",
    "Sort Using Two Stacks\n",
    "Iteration 1:\n",
    "\n",
    "Pop 10 from stack: stack = [6, 5, 4, 9, 8]\n",
    "sorted_arr is empty, push 10 onto sorted_arr: sorted_arr = [10]\n",
    "Iteration 2:\n",
    "\n",
    "Pop 8 from stack: stack = [6, 5, 4, 9]\n",
    "8 is less than 10 (top of sorted_arr), pop 10 from sorted_arr and push back onto stack: sorted_arr = [], stack = [6, 5, 4, 9, 10]\n",
    "Push 8 onto sorted_arr: sorted_arr = [8]\n",
    "Iteration 3:\n",
    "\n",
    "Pop 10 from stack: stack = [6, 5, 4, 9]\n",
    "10 is greater than 8 (top of sorted_arr), push 10 onto sorted_arr: sorted_arr = [8, 10]\n",
    "Iteration 4:\n",
    "\n",
    "Pop 9 from stack: stack = [6, 5, 4]\n",
    "9 is less than 10 (top of sorted_arr), pop 10 from sorted_arr and push back onto stack: sorted_arr = [8], stack = [6, 5, 4, 10]\n",
    "9 is greater than 8 (top of sorted_arr), push 9 onto sorted_arr: sorted_arr = [8, 9]\n",
    "Iteration 5:\n",
    "\n",
    "Pop 10 from stack: stack = [6, 5, 4]\n",
    "10 is greater than 9 (top of sorted_arr), push 10 onto sorted_arr: sorted_arr = [8, 9, 10]\n",
    "Iteration 6:\n",
    "\n",
    "Pop 4 from stack: stack = [6, 5]\n",
    "4 is less than 10 (top of sorted_arr), pop 10 from sorted_arr and push back onto stack: sorted_arr = [8, 9], stack = [6, 5, 10]\n",
    "4 is less than 9 (top of sorted_arr), pop 9 from sorted_arr and push back onto stack: sorted_arr = [8], stack = [6, 5, 10, 9]\n",
    "4 is less than 8 (top of sorted_arr), pop 8 from sorted_arr and push back onto stack: sorted_arr = [], stack = [6, 5, 10, 9, 8]\n",
    "Push 4 onto sorted_arr: sorted_arr = [4]\n",
    "Iteration 7:\n",
    "\n",
    "Pop 8 from stack: stack = [6, 5, 10, 9]\n",
    "8 is greater than 4 (top of sorted_arr), push 8 onto sorted_arr: sorted_arr = [4, 8]\n",
    "Iteration 8:\n",
    "\n",
    "Pop 9 from stack: stack = [6, 5, 10]\n",
    "9 is greater than 8 (top of sorted_arr), push 9 onto sorted_arr: sorted_arr = [4, 8, 9]\n",
    "Iteration 9:\n",
    "\n",
    "Pop 10 from stack: stack = [6, 5]\n",
    "10 is greater than 9 (top of sorted_arr), push 10 onto sorted_arr: sorted_arr = [4, 8, 9, 10]\n",
    "Iteration 10:\n",
    "\n",
    "Pop 5 from stack: stack = [6]\n",
    "5 is less than 10 (top of sorted_arr), pop 10 from sorted_arr and push back onto stack: sorted_arr = [4, 8, 9], stack = [6, 10]\n",
    "5 is less than 9 (top of sorted_arr), pop 9 from sorted_arr and push back onto stack: sorted_arr = [4, 8], stack = [6, 10, 9]\n",
    "5 is less than 8 (top of sorted_arr), pop 8 from sorted_arr and push back onto stack: sorted_arr = [4], stack = [6, 10, 9, 8]\n",
    "5 is greater than 4 (top of sorted_arr), push 5 onto sorted_arr: sorted_arr = [4, 5]\n",
    "Iteration 11:\n",
    "\n",
    "Pop 8 from stack: stack = [6, 10, 9]\n",
    "8 is greater than 5 (top of sorted_arr), push 8 onto sorted_arr: sorted_arr = [4, 5, 8]\n",
    "Iteration 12:\n",
    "\n",
    "Pop 9 from stack: stack = [6, 10]\n",
    "9 is greater than 8 (top of sorted_arr), push 9 onto sorted_arr: sorted_arr = [4, 5, 8, 9]\n",
    "Iteration 13:\n",
    "\n",
    "Pop 10 from stack: stack = [6]\n",
    "10 is greater than 9 (top of sorted_arr), push 10 onto sorted_arr: sorted_arr = [4, 5, 8, 9, 10]\n",
    "Iteration 14:\n",
    "\n",
    "Pop 6 from stack: stack = []\n",
    "6 is less than 10 (top of sorted_arr), pop 10 from sorted_arr and push back onto stack: sorted_arr = [4, 5, 8, 9], stack = [10]\n",
    "6 is less than 9 (top of sorted_arr), pop 9 from sorted_arr and push back onto stack: sorted_arr = [4, 5, 8], stack = [10, 9]\n",
    "6 is less than 8 (top of sorted_arr), pop 8 from sorted_arr and push back onto stack: sorted_arr = [4, 5], stack = [10, 9, 8]\n",
    "6 is greater than 5 (top of sorted_arr), push 6 onto sorted_arr: sorted_arr = [4, 5, 6]\n",
    "Iteration 15:\n",
    "\n",
    "Pop 8 from stack: stack = [10, 9]\n",
    "8 is greater than 6 (top of sorted_arr), push 8 onto sorted_arr: sorted_arr = [4, 5, 6, 8]\n",
    "Iteration 16:\n",
    "\n",
    "Pop 9 from stack: stack = [10]\n",
    "9 is greater than 8 (top of sorted_arr), push 9 onto sorted_arr: sorted_arr = [4, 5, 6, 8, 9]\n",
    "Iteration 17:\n",
    "\n",
    "Pop 10 from stack: stack = []\n",
    "10 is greater than 9 (top of sorted_arr), push 10 onto sorted_arr: sorted_arr = [4, 5, 6, 8, 9, 10]\n",
    "Final Sorted Array\n",
    "The sorted_arr stack will contain the elements sorted in ascending order:\n",
    "sorted_arr = [4, 5, 6, 8, 9, 10]"
   ]
  },
  {
   "cell_type": "markdown",
   "id": "79684d3a",
   "metadata": {},
   "source": [
    "## Space O(N) - sorting with queue using extra space (list)\n",
    "#### `out-of-place sorting`"
   ]
  },
  {
   "cell_type": "code",
   "execution_count": 17,
   "id": "26068ba1-9d0a-456d-b696-577396504efb",
   "metadata": {},
   "outputs": [
    {
     "name": "stdout",
     "output_type": "stream",
     "text": [
      "[4, 5, 6, 8, 9, 10]\n"
     ]
    },
    {
     "data": {
      "text/plain": [
       "deque([4, 5, 6, 8, 9, 10])"
      ]
     },
     "execution_count": 17,
     "metadata": {},
     "output_type": "execute_result"
    }
   ],
   "source": [
    "import queue\n",
    "\n",
    "def sort_queue(q):\n",
    "    temp = []\n",
    "\n",
    "    while not q.is_empty():\n",
    "        temp.append(q.dequeue())\n",
    "\n",
    "    temp.sort()\n",
    "\n",
    "    for elem in temp:\n",
    "        q.enqueue(elem)\n",
    "    \n",
    "    return q\n",
    "\n",
    "q = Queue()\n",
    "\n",
    "arr = [6, 5, 4, 9, 8, 10]\n",
    "for elem in arr:\n",
    "    q.enqueue(elem)\n",
    "\n",
    "sorted_q = sort_queue(q)\n",
    "\n",
    "sorted_q.items\n"
   ]
  },
  {
   "cell_type": "markdown",
   "id": "55fd1ddc",
   "metadata": {},
   "source": [
    "## Space O(1) - sorting with queue without using extra space\n",
    "#### `In-place sorting`"
   ]
  },
  {
   "cell_type": "code",
   "execution_count": 22,
   "id": "d150689c-aa4a-49ae-93e0-68358f9ec911",
   "metadata": {},
   "outputs": [],
   "source": [
    "# from queue import Queue  \n",
    "\n",
    "def minIndex(q, sortedIndex): \n",
    "    min_index = -1\n",
    "    min_val = 999999999999\n",
    "    n = q.qsize() \n",
    "    for i in range(n): \n",
    "        curr = q.peek() \n",
    "        q.dequeue() # This is dequeue() in C++ STL  \n",
    "  \n",
    "        # we add the condition i <= sortedIndex  \n",
    "        # because we don't want to traverse  \n",
    "        # on the sorted part of the queue,  \n",
    "        # which is the right part.  \n",
    "        if (curr <= min_val and i <= sortedIndex): \n",
    "            min_index = i  \n",
    "            min_val = curr \n",
    "        q.enqueue(curr) # This is enqueue() in  \n",
    "                    # C++ STL \n",
    "    return min_index \n",
    "  \n",
    "def insertMinToRear(q, min_index): \n",
    "    min_val = None\n",
    "    n = q.qsize() \n",
    "    for i in range(n): \n",
    "        curr = q.peek()  \n",
    "        q.dequeue() \n",
    "        if (i != min_index):  \n",
    "            q.enqueue(curr)  \n",
    "        else: \n",
    "            min_val = curr \n",
    "    q.enqueue(min_val) \n",
    "  \n",
    "def sortQueue(q): \n",
    "    for i in range(1, q.qsize() + 1): \n",
    "        min_index = minIndex(q, q.qsize() - i)  \n",
    "        insertMinToRear(q, min_index) \n",
    "  "
   ]
  },
  {
   "cell_type": "code",
   "execution_count": 25,
   "id": "69cf5cbc-3187-4d40-9797-4cfde5faf0bb",
   "metadata": {},
   "outputs": [
    {
     "name": "stdout",
     "output_type": "stream",
     "text": [
      "4 5 6 8 9 10 "
     ]
    }
   ],
   "source": [
    "# Driver code  \n",
    "if __name__ == '__main__': \n",
    "    q = Queue() \n",
    "    q.enqueue(6)  \n",
    "    q.enqueue(5)  \n",
    "    q.enqueue(4)  \n",
    "    q.enqueue(9)\n",
    "    q.enqueue(8)  \n",
    "    q.enqueue(10)   \n",
    "\n",
    "    sortQueue(q)   \n",
    "    while (q.is_empty() == False): \n",
    "        print(q.peek(), end = \" \")  \n",
    "        q.dequeue() "
   ]
  },
  {
   "cell_type": "code",
   "execution_count": null,
   "id": "c07f0393-ea71-444f-8bb8-2b2e4fecac51",
   "metadata": {},
   "outputs": [],
   "source": []
  },
  {
   "cell_type": "code",
   "execution_count": null,
   "id": "43f0f1e8-32bf-4d55-a2bb-c8c8b1fc121a",
   "metadata": {},
   "outputs": [],
   "source": []
  },
  {
   "cell_type": "code",
   "execution_count": null,
   "id": "f2cf6456-0272-4396-ae1d-6c4598158e34",
   "metadata": {},
   "outputs": [],
   "source": []
  }
 ],
 "metadata": {
  "kernelspec": {
   "display_name": "Python 3 (ipykernel)",
   "language": "python",
   "name": "python3"
  },
  "language_info": {
   "codemirror_mode": {
    "name": "ipython",
    "version": 3
   },
   "file_extension": ".py",
   "mimetype": "text/x-python",
   "name": "python",
   "nbconvert_exporter": "python",
   "pygments_lexer": "ipython3",
   "version": "3.12.4"
  }
 },
 "nbformat": 4,
 "nbformat_minor": 5
}
