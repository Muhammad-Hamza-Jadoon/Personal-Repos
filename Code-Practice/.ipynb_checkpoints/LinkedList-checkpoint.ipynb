{
 "cells": [
  {
   "cell_type": "markdown",
   "id": "4286ad98",
   "metadata": {},
   "source": [
    "## Playing around with Linked List \n",
    "#### Insertions at end and beginning"
   ]
  },
  {
   "cell_type": "code",
   "execution_count": 24,
   "id": "6a4be901",
   "metadata": {},
   "outputs": [],
   "source": [
    "# I was working here\n",
    "\n",
    "class Node:\n",
    "    def __init__(self, data=None):\n",
    "        self.data = data\n",
    "        self.next = None\n",
    "        \n",
    "class LinkedList:\n",
    "    \n",
    "    def __init__(self):\n",
    "        self.head = None\n",
    "\n",
    "    def insertAtBeginning(self, data):\n",
    "        new_node = Node(data)\n",
    "        new_node.next = self.head\n",
    "        self.head = new_node\n",
    "    \n",
    "    def insertAtEnd(self, data):\n",
    "        new_node = Node(data)\n",
    "        if self.head is None:\n",
    "            self.head = new_node\n",
    "        else:\n",
    "            current = self.head\n",
    "            while current.next:\n",
    "                current = current.next\n",
    "            current.next = new_node\n",
    "\n",
    "    def insertAfter(self, prev, data):\n",
    "        new_node = Node(data)\n",
    "        if self.head == None:\n",
    "            print(\"not present\")\n",
    "            return\n",
    "        current = self.head\n",
    "        while current:\n",
    "            if current.data == prev:\n",
    "                new_node.next = current.next\n",
    "                current.next = new_node\n",
    "                return\n",
    "            else:\n",
    "                current = current.next\n",
    "\n",
    "    def DeleteAtBeginning(self):\n",
    "        if self.head == None:\n",
    "            print(\"not present\")\n",
    "            return\n",
    "        if self.head.next == None:\n",
    "            self.head = None\n",
    "        else:\n",
    "            self.head = self.head.next\n",
    "\n",
    "    def DeleteAtEnd(self):\n",
    "        if self.head == None:\n",
    "            print(\"not present\")\n",
    "            return\n",
    "        current = self.head\n",
    "        while current.next.next:\n",
    "            current = current.next\n",
    "        current.next = None\n",
    "\n",
    "\n",
    "    def DeleteAtPosition(self, pos):\n",
    "        if self.head == None:\n",
    "            print(\"not present\")\n",
    "            return\n",
    "        if self.head.next == None and pos == 0:\n",
    "            self.head = None\n",
    "        elif pos == 0:\n",
    "            self.head = self.head.next\n",
    "        cpos = 0\n",
    "        current = self.head\n",
    "        while current: \n",
    "            if cpos+1 == pos:\n",
    "                current.next = current.next.next\n",
    "                return\n",
    "            current = current.next\n",
    "            cpos = cpos+1\n",
    "            \n",
    "\n",
    "    def DeleteValue(self, val):\n",
    "        if self.head == None:\n",
    "            print(\"not present\")\n",
    "            return\n",
    "        if self.head.data == val:\n",
    "            self.head = self.head.next\n",
    "        current = self.head\n",
    "        while current:\n",
    "            if current.data == val:\n",
    "                temp.next = current.next\n",
    "            temp = current\n",
    "            current = current.next\n",
    "    \n",
    "     # def Func1(self, key):\n",
    "    \n",
    "    def print_list(self):\n",
    "        current = self.head\n",
    "        while current:\n",
    "            print(current.data, end = ' -> ')\n",
    "            current = current.next\n",
    "        \n"
   ]
  },
  {
   "cell_type": "code",
   "execution_count": 25,
   "id": "86284017",
   "metadata": {},
   "outputs": [],
   "source": [
    "my_list = LinkedList()"
   ]
  },
  {
   "cell_type": "code",
   "execution_count": 26,
   "id": "39a26bf9",
   "metadata": {},
   "outputs": [
    {
     "name": "stdout",
     "output_type": "stream",
     "text": [
      "6 -> 5 -> 4 -> 1 -> 2 -> 3 -> 7 -> "
     ]
    }
   ],
   "source": [
    "my_list.insertAtEnd('1')\n",
    "my_list.insertAtEnd('2')\n",
    "my_list.insertAtEnd('3')\n",
    "my_list.insertAtBeginning('4')\n",
    "my_list.insertAtBeginning('5')\n",
    "my_list.insertAtBeginning('6')\n",
    "my_list.insertAtEnd('7')\n",
    "my_list.insertAfter('7','xxx')\n",
    "my_list.DeleteAtEnd()\n",
    "my_list.print_list()\n",
    "\n",
    "# my_list.print_list()  # Output: Node 1, Node 2, Node 3"
   ]
  },
  {
   "cell_type": "code",
   "execution_count": 27,
   "id": "83a24003",
   "metadata": {},
   "outputs": [
    {
     "name": "stdout",
     "output_type": "stream",
     "text": [
      "6 -> 5 -> 4 -> 1 -> 2 -> 3 -> 7 -> "
     ]
    }
   ],
   "source": [
    "# my_list.insertAfter('1','xxx')\n",
    "my_list.print_list()"
   ]
  },
  {
   "cell_type": "code",
   "execution_count": 28,
   "id": "0a7acd4d-8f8c-43de-a063-448204d8dc72",
   "metadata": {},
   "outputs": [
    {
     "name": "stdout",
     "output_type": "stream",
     "text": [
      "5\n",
      "4\n",
      "6 -> 5 -> 4 -> 2 -> 3 -> 7 -> "
     ]
    }
   ],
   "source": [
    "my_list.DeleteAtPosition(3)\n",
    "my_list.print_list()"
   ]
  },
  {
   "cell_type": "code",
   "execution_count": 115,
   "id": "ed2ed6ae",
   "metadata": {},
   "outputs": [],
   "source": [
    "my_list.DeleteValue('4')\n",
    "my_list.print_list()"
   ]
  },
  {
   "cell_type": "code",
   "execution_count": null,
   "id": "45074d11",
   "metadata": {},
   "outputs": [],
   "source": []
  },
  {
   "cell_type": "code",
   "execution_count": null,
   "id": "77dfd6a9",
   "metadata": {},
   "outputs": [],
   "source": []
  },
  {
   "cell_type": "code",
   "execution_count": null,
   "id": "45cbdfdf",
   "metadata": {},
   "outputs": [],
   "source": [
    "def deleteAtPosition(self, position):\n",
    "    if self.head is None:\n",
    "        print(\"List is empty. Nothing to delete.\")\n",
    "        return\n",
    "\n",
    "    if position == 0:\n",
    "        self.head = self.head.next\n",
    "        return\n",
    "\n",
    "    current = self.head\n",
    "    current_position = 0\n",
    "    while current.next and current_position < position - 1:\n",
    "        current = current.next\n",
    "        current_position += 1\n",
    "\n",
    "    if current.next:\n",
    "        current.next = current.next.next\n",
    "    else:\n",
    "        print(\"Position is out of range.\")"
   ]
  },
  {
   "cell_type": "code",
   "execution_count": null,
   "id": "ad79a263-c062-4a1c-9b0e-35b8bd7855fa",
   "metadata": {},
   "outputs": [],
   "source": [
    "def deleteValue(self, value):\n",
    "    if self.head is None:\n",
    "        print(\"List is empty. Nothing to delete.\")\n",
    "        return\n",
    "\n",
    "    if self.head.data == value:\n",
    "        self.head = self.head.next\n",
    "        return\n",
    "\n",
    "    current = self.head\n",
    "    while current.next:\n",
    "        if current.next.data == value:\n",
    "            current.next = current.next.next\n",
    "            return\n",
    "        current = current.next\n",
    "\n",
    "    print(\"Value not found in the list.\")"
   ]
  },
  {
   "cell_type": "code",
   "execution_count": null,
   "id": "54d6e340-086f-47ca-ab01-e06e4c6f0a99",
   "metadata": {},
   "outputs": [],
   "source": [
    "def deleteEvenValues(self):\n",
    "    if self.head is None:\n",
    "        print(\"List is empty. Nothing to delete.\")\n",
    "        return\n",
    "\n",
    "    while self.head and self.head.data % 2 == 0:\n",
    "        self.head = self.head.next\n",
    "\n",
    "    current = self.head\n",
    "    while current and current.next:\n",
    "        if current.next.data % 2 == 0:\n",
    "            current.next = current.next.next\n",
    "        else:\n",
    "            current = current.next"
   ]
  },
  {
   "cell_type": "code",
   "execution_count": null,
   "id": "af07d84b",
   "metadata": {},
   "outputs": [],
   "source": [
    "Here's a question that tests concepts of linked lists and asks to perform a deletion operation based on certain conditions:\n",
    "Question:\n",
    "Write a function deleteNodesWithGreaterValue that takes the head of a singly linked list and an integer k as input. The \n",
    "function should delete all nodes in the list that have a value greater than k. The function should return the head of the modified list.\n",
    "Example:\n",
    "Input: head = 1 -> 2 -> 3 -> 4 -> 5 -> NULL, k = 3\n",
    "Output: 1 -> 2 -> 3 -> NULL\n",
    "Constraints:\n",
    "The linked list may contain duplicates.\n",
    "The input list is non-empty. \n",
    "The value of k is within the range of values in the list.\n",
    "Evaluation Criteria:\n",
    "Correctness: Does the function correctly delete all nodes with values greater than k?\n",
    "Efficiency: Does the function have a time complexity of O(n), where n is the length of the input list?\n",
    "Code quality: Is the code readable, maintainable, and free of errors?\n",
    "Note:\n",
    "This question tests the candidate's understanding of linked list operations, particularly deletion,\n",
    "and their ability to write efficient and correct code. The condition of deleting nodes with values greater \n",
    "than k adds an extra layer of complexity, requiring the candidate to think critically about the problem."
   ]
  }
 ],
 "metadata": {
  "kernelspec": {
   "display_name": "Python 3 (ipykernel)",
   "language": "python",
   "name": "python3"
  },
  "language_info": {
   "codemirror_mode": {
    "name": "ipython",
    "version": 3
   },
   "file_extension": ".py",
   "mimetype": "text/x-python",
   "name": "python",
   "nbconvert_exporter": "python",
   "pygments_lexer": "ipython3",
   "version": "3.12.3"
  }
 },
 "nbformat": 4,
 "nbformat_minor": 5
}
