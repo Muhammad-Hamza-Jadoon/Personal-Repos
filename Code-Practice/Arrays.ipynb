{
 "cells": [
  {
   "cell_type": "markdown",
   "id": "83e9cc25-4a95-4065-bbcb-9070b6f1a89e",
   "metadata": {},
   "source": [
    "### Remove Duplicates: Write a function to remove duplicates from a list, preserving the original order.\n",
    "\n",
    "Input: [1, 2, 2, 3, 4, 4, 5]\n",
    "\n",
    "Output: [1, 2, 3, 4, 5]"
   ]
  },
  {
   "cell_type": "code",
   "execution_count": 4,
   "id": "77244732-9e9c-4576-88b5-88110b1ca0b4",
   "metadata": {},
   "outputs": [
    {
     "name": "stdout",
     "output_type": "stream",
     "text": [
      "[1, 2, 3, 4, 5]\n",
      "[1, 2, 3, 4, 5]\n"
     ]
    }
   ],
   "source": [
    "def remove_duplicates(input):\n",
    "\n",
    "    dup = []\n",
    "    for i in input:\n",
    "        if i not in dup:\n",
    "            dup.append(i)\n",
    "    print(dup)\n",
    "\n",
    "def remove_duplicates_(input):\n",
    "    print(list(set(Input)))\n",
    "\n",
    "\n",
    "# set() creats hash maps and its search complexity is O(n)\n",
    "def containsDuplicate( nums):\n",
    "    unique = set()\n",
    "    for i in nums:\n",
    "        if i in unique:\n",
    "            return True\n",
    "        unique.add(i)\n",
    "    return False\n",
    "\n",
    "\n",
    "Input = [1, 2, 2, 3, 4, 4, 5]\n",
    "remove_duplicates(Input)\n",
    "remove_duplicates_(Input)\n",
    "# containsDuplicate(Input)"
   ]
  },
  {
   "cell_type": "markdown",
   "id": "fd566ab0-f269-4a6d-bfa9-af82f9ecf0a4",
   "metadata": {},
   "source": [
    "### Rotate List: Write a function to rotate a list by a given number of positions.\n",
    "\n",
    "Input: [1, 2, 3, 4, 5], 2\n",
    "\n",
    "Output: [3, 4, 5, 1, 2]"
   ]
  },
  {
   "cell_type": "code",
   "execution_count": 2,
   "id": "6e7462e6-cb5b-4073-9620-d949e1df2df7",
   "metadata": {},
   "outputs": [
    {
     "name": "stdout",
     "output_type": "stream",
     "text": [
      "[5, 6, 7, 8, 9]\n",
      "\n"
     ]
    }
   ],
   "source": [
    "def rotate_by_number(input, pos):\n",
    "\n",
    "    lst = []\n",
    "    output = []\n",
    "    status = False\n",
    "    for i in input:\n",
    "\n",
    "        if i == pos:\n",
    "            lst.append(i)\n",
    "            status = True\n",
    "        else:\n",
    "            if status == True:\n",
    "                output.append(i)\n",
    "            else:\n",
    "                lst.append(i)\n",
    "\n",
    "    output = output+lst\n",
    "    print(output)\n",
    "\n",
    "def rotate_by_position_(input, pos):\n",
    "    print(input[pos:]+input[:pos])\n",
    "\n",
    "def rotate_by_position__(input, pos):\n",
    "    for _ in range(pos):\n",
    "        input.append(input.pop(0))\n",
    "    print(input)\n",
    "    return input\n",
    "\n",
    "pos = 2\n",
    "input = [5,6,7,8,9]\n",
    "\n",
    "\n",
    "rotate_by_number(input, pos)\n",
    "# rotate_by_position_(input, pos)\n",
    "# rotate_by_position__(input, pos)\n",
    "\n",
    "print()"
   ]
  },
  {
   "cell_type": "markdown",
   "id": "407e0abd-fc5e-4989-87ca-88a2fd451ddb",
   "metadata": {},
   "source": [
    "### Merge Sorted Lists: Merge two sorted lists into a new sorted list.\n",
    "\n",
    " * ##### Input: [1, 3, 5], [2, 4, 6]\n",
    " * ##### Output: [1, 2, 3, 4, 5, 6]"
   ]
  },
  {
   "cell_type": "markdown",
   "id": "73b301a1-d505-478a-9d24-6f0dd237a99a",
   "metadata": {},
   "source": [
    "###### complexity of o(n^2)"
   ]
  },
  {
   "cell_type": "code",
   "execution_count": 17,
   "id": "62345593-238d-456d-aa65-d72e3b8eb221",
   "metadata": {},
   "outputs": [
    {
     "name": "stdout",
     "output_type": "stream",
     "text": [
      "[1, 2, 3, 5]\n",
      "[1, 2, 3, 4, 5]\n"
     ]
    }
   ],
   "source": [
    "lst = [1,3,5]\n",
    "lst2 = [2,4,6]\n",
    "\n",
    "for j in lst2:\n",
    "    status = False\n",
    "    for pos,i in enumerate(lst):\n",
    "        if j < i:\n",
    "            lst.insert(pos,j)\n",
    "            print(lst)\n",
    "            status = True\n",
    "            break  \n",
    "            \n",
    "    if status == False:\n",
    "        lst.append(j)\n",
    "    "
   ]
  },
  {
   "cell_type": "markdown",
   "id": "a325a75c-9195-475e-8e2f-41ddfc27c06c",
   "metadata": {},
   "source": [
    "###### complexity of o(n+m)"
   ]
  },
  {
   "cell_type": "code",
   "execution_count": 28,
   "id": "839d1297-2977-4297-b814-56b79b3f11d2",
   "metadata": {},
   "outputs": [
    {
     "name": "stdout",
     "output_type": "stream",
     "text": [
      "[1, 2, 3, 4, 5, 6]\n"
     ]
    }
   ],
   "source": [
    "# Test the function\n",
    "lst1 = [1, 3, 5]\n",
    "lst2 = [2, 4, 6]\n",
    "\n",
    "merged_list = []\n",
    "i, j = 0, 0\n",
    "\n",
    "while i < len(lst1) and j < len(lst2):\n",
    "    \n",
    "    if lst1[i] < lst2[j]:\n",
    "        merged_list.append(lst1[i])\n",
    "        i += 1\n",
    "    else:\n",
    "        merged_list.append(lst2[j])\n",
    "        j += 1\n",
    "\n",
    "# Append the remaining elements in lst1 or lst2\n",
    "while i < len(lst1):\n",
    "    merged_list.append(lst1[i])\n",
    "    i += 1\n",
    "    \n",
    "while j < len(lst2):\n",
    "    merged_list.append(lst2[j])\n",
    "    j += 1\n",
    "    \n",
    "print(merged_list)\n",
    "\n"
   ]
  },
  {
   "cell_type": "markdown",
   "id": "199bb3ce-0f2c-4aaa-bed3-ab063122f786",
   "metadata": {},
   "source": [
    "# Find n-Largest: Write a function to find the second-largest element in a list.\n",
    "\n",
    "Python\n",
    "Input: [1, 2, 3, 4, 5], 2\n",
    "\n",
    "Output: 4"
   ]
  },
  {
   "cell_type": "code",
   "execution_count": 8,
   "id": "8c456908-2f2c-46a9-9eff-30170f96a8e5",
   "metadata": {},
   "outputs": [
    {
     "name": "stdout",
     "output_type": "stream",
     "text": [
      "99\n"
     ]
    }
   ],
   "source": [
    "def nth_largest(lst, n):\n",
    "\n",
    "    exclude_numbers = []\n",
    "    for i in range(n):\n",
    "        \n",
    "        largest = 0\n",
    "        for j in lst:\n",
    "            \n",
    "            if j > largest and j not in exclude_numbers:\n",
    "                largest = j\n",
    "                \n",
    "        exclude_numbers.append(largest)\n",
    "        \n",
    "    return largest\n",
    "\n",
    "lst = [88,99,22,50,100,1,0]\n",
    "print(nth_largest( lst, 2))\n"
   ]
  },
  {
   "cell_type": "code",
   "execution_count": 46,
   "id": "9e3d1009-a66e-4529-9683-1e54a2546899",
   "metadata": {},
   "outputs": [
    {
     "data": {
      "text/plain": [
       "[0, 1, 22, 50, 88, 99, 100]"
      ]
     },
     "execution_count": 46,
     "metadata": {},
     "output_type": "execute_result"
    }
   ],
   "source": [
    "sorted(lst, reverse=False)"
   ]
  },
  {
   "cell_type": "code",
   "execution_count": 5,
   "id": "ce9b06e6-160a-4119-b406-00389a84df3f",
   "metadata": {},
   "outputs": [
    {
     "name": "stdout",
     "output_type": "stream",
     "text": [
      "lst =  88 \n",
      "\n",
      "check if  88  >  -inf\n",
      "     IT ISS!!!\n",
      "     before :  [-inf, -inf, -inf]\n",
      "      [88, -inf, -inf, -inf]\n",
      "     after :  [88, -inf, -inf]\n",
      "\n",
      "lst =  99 \n",
      "\n",
      "check if  99  >  88\n",
      "     IT ISS!!!\n",
      "     before :  [88, -inf, -inf]\n",
      "      [99, 88, -inf, -inf]\n",
      "     after :  [99, 88, -inf]\n",
      "\n",
      "lst =  22 \n",
      "\n",
      "check if  22  >  99\n",
      "check if  22  >  88\n",
      "check if  22  >  -inf\n",
      "     IT ISS!!!\n",
      "     before :  [99, 88, -inf]\n",
      "      [99, 88, 22, -inf]\n",
      "     after :  [99, 88, 22]\n",
      "\n",
      "lst =  50 \n",
      "\n",
      "check if  50  >  99\n",
      "check if  50  >  88\n",
      "check if  50  >  22\n",
      "     IT ISS!!!\n",
      "     before :  [99, 88, 22]\n",
      "      [99, 88, 50, 22]\n",
      "     after :  [99, 88, 50]\n",
      "\n",
      "lst =  100 \n",
      "\n",
      "check if  100  >  99\n",
      "     IT ISS!!!\n",
      "     before :  [99, 88, 50]\n",
      "      [100, 99, 88, 50]\n",
      "     after :  [100, 99, 88]\n",
      "\n",
      "lst =  1 \n",
      "\n",
      "check if  1  >  100\n",
      "check if  1  >  99\n",
      "check if  1  >  88\n",
      "\n",
      "[100, 99, 88]\n",
      "88\n"
     ]
    }
   ],
   "source": [
    "# using pop()\n",
    "def nth_largest(lst, n):\n",
    "    largest = [float('-inf')] * n\n",
    "    for num in lst:\n",
    "        print(\"lst = \", num, \"\\n\")\n",
    "        for i in range(n):\n",
    "            print(\"check if \",num ,\" > \", largest[i])\n",
    "            if num > largest[i]:\n",
    "                print(\"     IT ISS!!!\")\n",
    "                print(\"     before : \", largest)\n",
    "                largest.insert(i, num)\n",
    "                print(\"     \",largest)\n",
    "                largest.pop()\n",
    "                print(\"     after : \", largest)\n",
    "                break\n",
    "        print()\n",
    "    print(largest)\n",
    "    return largest[-1]\n",
    "\n",
    "lst = [88, 99, 22, 50, 100, 1]\n",
    "print(nth_largest(lst, 3))  # prints 99 (second largest)\n"
   ]
  },
  {
   "cell_type": "markdown",
   "id": "941bb7cb-677d-44f3-9adc-ba087cbea294",
   "metadata": {},
   "source": [
    "\n",
    "\n",
    "# Split List: Write a function to split a list into two halves.\n",
    "\n",
    "Python\n",
    "Input: [1, 2, 3, 4, 5]\n",
    "\n",
    "Output: [[1, 2], [3, 4, 5]]"
   ]
  },
  {
   "cell_type": "code",
   "execution_count": null,
   "id": "077d7747-3eb9-475e-a7a1-58df8a7d33dd",
   "metadata": {},
   "outputs": [],
   "source": []
  },
  {
   "cell_type": "code",
   "execution_count": null,
   "id": "a9bd5c34-a461-4e59-b85a-7d4403d700d8",
   "metadata": {},
   "outputs": [],
   "source": []
  },
  {
   "cell_type": "code",
   "execution_count": null,
   "id": "d91d3282-d0e7-4b14-8507-76f5cfdeb537",
   "metadata": {},
   "outputs": [],
   "source": []
  },
  {
   "cell_type": "code",
   "execution_count": null,
   "id": "3ee9740a-c53d-4d66-b130-932e2a545692",
   "metadata": {},
   "outputs": [],
   "source": []
  },
  {
   "cell_type": "code",
   "execution_count": null,
   "id": "5204ec8e-0e63-46fe-90fe-27ef5be84ee4",
   "metadata": {},
   "outputs": [],
   "source": []
  },
  {
   "cell_type": "code",
   "execution_count": null,
   "id": "5201234b-b8bc-4992-a92c-1e0207438d94",
   "metadata": {},
   "outputs": [],
   "source": []
  },
  {
   "cell_type": "code",
   "execution_count": null,
   "id": "00c04f62-84f8-4439-baf2-40066e5ab18e",
   "metadata": {},
   "outputs": [],
   "source": []
  },
  {
   "cell_type": "code",
   "execution_count": null,
   "id": "cf1c82d5-a29a-47c1-b1c1-6e4b4188f8ca",
   "metadata": {},
   "outputs": [],
   "source": []
  },
  {
   "cell_type": "code",
   "execution_count": null,
   "id": "c06422ec-af6e-4c6e-987b-25b165e44be8",
   "metadata": {},
   "outputs": [],
   "source": []
  },
  {
   "cell_type": "code",
   "execution_count": 1,
   "id": "685a0a24-e4bb-469b-98d5-cf8fb47c0efb",
   "metadata": {},
   "outputs": [],
   "source": []
  },
  {
   "cell_type": "markdown",
   "id": "19245b6a-21b0-4afb-addb-d58a6cfab419",
   "metadata": {},
   "source": [
    "### You are given an integer array prices where prices[i] is the price of a given stock on the ith day.\n",
    "\n",
    "On each day, you may decide to buy and/or sell the stock. You can only hold at most one share of the stock at any time. However, you can buy it then immediately sell it on the same day.\n",
    "\n",
    "Find and return the maximum profit you can achi= 7.= 7.eve."
   ]
  },
  {
   "cell_type": "code",
   "execution_count": 7,
   "id": "18923526-d91c-4c33-98c7-49f407808aa1",
   "metadata": {},
   "outputs": [],
   "source": [
    "# Input: prices = [7,1,5,3,6,4]\n",
    "# Output: 7\n",
    "# Explanation: Buy on day 2 (price = 1) and sell on day 3 (price = 5), profit = 5-1 = 4.\n",
    "# Then buy on day 4 (price = 3) and sell on day 5 (price = 6), profit = 6-3 = 3.\n",
    "# Total profit is 4 + 3 = 7."
   ]
  },
  {
   "cell_type": "code",
   "execution_count": 18,
   "id": "5557781a-ca5e-48e4-833a-af2b4db754c2",
   "metadata": {},
   "outputs": [
    {
     "name": "stdout",
     "output_type": "stream",
     "text": [
      "5  -  1  >  0\n",
      "True\n",
      " diff =  4\n",
      "3  -  1  >  4\n",
      "False\n",
      " diff =  4\n",
      "\n",
      "3  -  5  >  0\n",
      "False\n",
      " diff =  0\n",
      "\n",
      "4  -  3  >  0\n",
      "True\n",
      " diff =  1\n",
      "2  -  3  >  1\n",
      "False\n",
      " diff =  1\n",
      "\n",
      "2  -  4  >  0\n",
      "False\n",
      " diff =  0\n",
      "\n",
      "[4, 1]\n",
      "5\n"
     ]
    }
   ],
   "source": [
    "# Self Attempt\n",
    "\n",
    "prices = [1,5,3,4,2]\n",
    "\n",
    "profit = []\n",
    "i = 0\n",
    "while i < len(prices)-1:\n",
    "# for i in range(len(prices)-1):\n",
    "    \n",
    "    check = False\n",
    "    diff = 0\n",
    "    j = i+1\n",
    "    while j < len(prices):\n",
    "        \n",
    "        print(prices[j], \" - \", prices[i], \" > \", diff)\n",
    "        if prices[j] - prices[i] > diff:\n",
    "            diff = prices[j] - prices[i]\n",
    "            print(\"True\\n\", \"diff = \", diff)\n",
    "            forward = j\n",
    "            check = True\n",
    "            \n",
    "            if j+1 == len(prices):\n",
    "                profit.append(diff)\n",
    "        else:\n",
    "            print(\"False\\n\", \"diff = \", diff)\n",
    "            if diff > 0:\n",
    "                profit.append(diff)          \n",
    "            break  \n",
    "        j = j+1  \n",
    "        \n",
    "    if check == True:\n",
    "        i = forward\n",
    "    else:\n",
    "        i = i+1\n",
    "    print()\n",
    "    \n",
    "print(profit)\n",
    "print(sum(profit))\n",
    "\n",
    "        "
   ]
  },
  {
   "cell_type": "code",
   "execution_count": 1,
   "id": "ae6424bc-dfea-43fa-b724-c9166bfe4a12",
   "metadata": {},
   "outputs": [
    {
     "name": "stdout",
     "output_type": "stream",
     "text": [
      "2  -  1  =  1\n",
      "3  -  2  =  1\n",
      "4  -  3  =  1\n",
      "5  -  4  =  1\n",
      "4  -  5  =  -1\n",
      "3  -  4  =  -1\n",
      "2  -  3  =  -1\n",
      "1  -  2  =  -1\n",
      "4\n"
     ]
    }
   ],
   "source": [
    "# Actual\n",
    "\n",
    "prices = [1,2,3,4,5,4,3,2,1]\n",
    "# prices = [7,1,5,3,6,4]\n",
    "\n",
    "maxProfit = 0\n",
    "\n",
    "for i in range(len(prices) - 1):\n",
    "    profit = prices[i + 1] - prices[i] \n",
    "    print(prices[i + 1],\" - \", prices[i], \" = \", profit)\n",
    "    if(profit > 0):\n",
    "        maxProfit += profit \n",
    "\n",
    "print(maxProfit)"
   ]
  },
  {
   "cell_type": "markdown",
   "id": "0c33a947-b04a-4f7d-915b-f09a27618793",
   "metadata": {},
   "source": [
    "# **Single Number**\n",
    "\n",
    "**Solution**\n",
    "\n",
    "Given a non-empty array of integers `nums`, every element appears twice except for one. Find that single one.\n",
    "\n",
    "**Constraints**:\n",
    "\n",
    "* You must implement a solution with a linear runtime complexity.\n",
    "* You must use only constant extra space.\n",
    "\n",
    "**Examples**\n",
    "------------\n",
    "\n",
    "### Example 1\n",
    "\n",
    "* Input: `nums = [2, 2, 1]`\n",
    "* Output: `1`\n",
    "\n",
    "### Example 2\n",
    "\n",
    "* Input: `nums = [4, 1, 2, 1, 2]`\n",
    "* Output: `4`\n",
    "\n",
    "### Example 3\n",
    "\n",
    "* Input: `nums = [1]`\n",
    "* Output: `1`\n",
    "\n",
    "**Constraints**\n",
    "--------------\n",
    "\n",
    "* `1 <= nums.length <= 3 * 10^4`\n",
    "* `-3 * 10^4 <= nums[i] <= 3 * 10^4`\n",
    "* Each element in the array appears twice except for one element which appears only once.e."
   ]
  },
  {
   "cell_type": "code",
   "execution_count": null,
   "id": "6265b0ac-e669-4254-abc4-a9cb33af72e3",
   "metadata": {},
   "outputs": [],
   "source": [
    "def singleNumber(nums):\n",
    "    \"\"\"\n",
    "    :type nums: List[int]\n",
    "    :rtype: int\n",
    "    \"\"\"\n",
    "    dic = {}\n",
    "    for i in nums:\n",
    "        if i not in dic:\n",
    "            dic[i] = 1\n",
    "        else:\n",
    "            dic[i] += 1\n",
    "        \n",
    "    for key, value in dic.items():\n",
    "        if value == 1:\n",
    "            return key"
   ]
  },
  {
   "cell_type": "code",
   "execution_count": 16,
   "id": "f7a19132-cc14-4441-888d-6572dbacc8c9",
   "metadata": {},
   "outputs": [
    {
     "name": "stdout",
     "output_type": "stream",
     "text": [
      "0 ^ 4  = 4\n",
      "4 ^ 1  = 5\n",
      "5 ^ 2  = 7\n",
      "7 ^ 1  = 6\n",
      "6 ^ 2  = 4\n"
     ]
    }
   ],
   "source": [
    "nums = [4,1,2,1,2]\n",
    "result = 0\n",
    "for i in nums:\n",
    "    print(result, \"^\", i,\" = \",end=\"\")\n",
    "    result = result ^ i\n",
    "    print(result)\n"
   ]
  },
  {
   "cell_type": "raw",
   "id": "b7dbc98b-c08b-4b73-9a1d-d63149a5ec9b",
   "metadata": {},
   "source": [
    "XOR with itself cancels out: a ^ a = 0\n",
    "XOR with 0 leaves the number unchanged: a ^ 0 = a\n",
    "XOR is associative and commutative: (a ^ b) ^ c = a ^ (b ^ c)\n",
    "By iterating through the list and XORing each number with the result, you're effectively canceling out the numbers that occur twice.\n",
    "Here's a step-by-step breakdown:\n",
    "result = 0 (initially)\n",
    "result = 0 ^ 4 = 4\n",
    "result = 4 ^ 1 = 5\n",
    "result = 5 ^ 2 = 7\n",
    "result = 7 ^ 1 = 6\n",
    "result = 6 ^ 2 = 4\n",
    "Notice that the numbers that occur twice (1 and 2) get canceled out, leaving only the number that occurs once (4)."
   ]
  },
  {
   "cell_type": "markdown",
   "id": "6b41db95-b3ee-4f2f-a310-dc925c9e4bac",
   "metadata": {},
   "source": [
    "**Intersection of Two Arrays II**\n",
    "=====================================\n",
    "\n",
    "Given two integer arrays `nums1` and `nums2`, return an array of their intersection. Each element in the result must appear as many times as it shows in both arrays and you may return the result in any order.\n",
    "\n",
    "**Examples**\n",
    "-------------\n",
    "\n",
    "### Example 1\n",
    "\n",
    "* Input: `nums1 = [1, 2, 2, 1]`, `nums2 = [2, 2]`\n",
    "* Output: `[2, 2]`\n",
    "\n",
    "### Example 2\n",
    "\n",
    "* Input: `nums1 = [4, 9, 5]`, `nums2 = [9, 4, 9, 8, 4]`\n",
    "* Output: `[4, 9]`\n",
    "* Explanation: `[9, 4]` is also accepted.\n",
    "\n",
    "**Constraints**\n",
    "--------------\n",
    "\n",
    "* `1 <= nums1.length, nums2.length <= 1000`\n",
    "* `0 <= nums1[i], nums2[i] <= 1000`ccepted.\n",
    " "
   ]
  },
  {
   "cell_type": "code",
   "execution_count": null,
   "id": "006fbcf7-a6af-494e-b623-67df6d536c62",
   "metadata": {},
   "outputs": [],
   "source": [
    "class Solution(object):\n",
    "    def intersect( nums1, nums2):\n",
    "        \"\"\"\n",
    "        :type nums1: List[int]\n",
    "        :type nums2: List[int]\n",
    "        :rtype: List[int]\n",
    "        \"\"\"\n",
    "        \n",
    "        A = {}\n",
    "        B = {}\n",
    "        \n",
    "        for i in nums1:\n",
    "            if i not in A:\n",
    "                A[i] = 1\n",
    "            else:\n",
    "                A[i] += 1\n",
    "                \n",
    "        for i in nums2:\n",
    "            if i not in B:\n",
    "                B[i] = 1\n",
    "            else:\n",
    "                B[i] += 1\n",
    "         \n",
    "        similar_keys = []  \n",
    "        for i in A.keys():\n",
    "            if i in B.keys():\n",
    "                similar_keys.append(i) \n",
    "        \n",
    "        \n",
    "        print(A)\n",
    "        print(similar_keys)\n",
    "        \n",
    "        output = []\n",
    "        for i in similar_keys:\n",
    "            for j in range(min(A[i], B[i])):\n",
    "                output.append(i)\n",
    "                  \n",
    "        \n",
    "        \n",
    "        return output\n",
    "        "
   ]
  },
  {
   "cell_type": "markdown",
   "id": "a5bac312-1e75-41bc-9ec0-4ac3142799fe",
   "metadata": {},
   "source": [
    "**Plus One**\n",
    "=====================================\n",
    "\n",
    "**Solution**\n",
    "\n",
    "You are given a large integer represented as an integer array `digits`, where each `digits[i]` is the ith digit of the integer. The digits are ordered from most significant to least significant in left-to-right order. The large integer does not contain any leading 0's.\n",
    "\n",
    "Increment the large integer by one and return the resulting array of digits.\n",
    "\n",
    "**Examples**\n",
    "-------------\n",
    "\n",
    "### Example 1\n",
    "\n",
    "* Input: `digits = [1, 2, 3]`\n",
    "* Output: `[1, 2, 4]`\n",
    "* Explanation: The array represents the integer 123. Incrementing by one gives 123 + 1 = 124. Thus, the result should be `[1, 2, 4]`.\n",
    "\n",
    "### Example 2\n",
    "\n",
    "* Input: `digits = [4, 3, 2, 1]`\n",
    "* Output: `[4, 3, 2, 2]`\n",
    "* Explanation: The array represents the integer 4321. Incrementing by one gives 4321 + 1 = 4322. Thus, the result should be `[4, 3, 2, 2]`.\n",
    "\n",
    "### Example 3\n",
    "\n",
    "* Input: `digits = [9]`\n",
    "* Output: `[1, 0]`\n",
    "* Explanation: The array represents the integer 9. Incrementing by one gives 9 + 1 = 10. Thus, the result should be `[1, 0]`.\n",
    "\n",
    "**Constraints**\n",
    "--------------\n",
    "\n",
    "* `1 <= digits.length <= 100`\n",
    "* `0 <= digits[i] <= 9`\n",
    "* `digits` does not contain any leading 0's.ts does not contain any leading 0's."
   ]
  },
  {
   "cell_type": "code",
   "execution_count": 54,
   "id": "619d3bd0-2ef2-475d-968c-8610d7c63a57",
   "metadata": {},
   "outputs": [],
   "source": [
    "# My implementation\n",
    "def plusOne(digits):\n",
    "    \"\"\"\n",
    "    :type digits: List[int]\n",
    "    :rtype: List[int]\n",
    "    \"\"\"\n",
    "    string = ''\n",
    "    for i in digits:\n",
    "        string += str(i)\n",
    "    \n",
    "    y = int(string)\n",
    "    z = y+1\n",
    "    z = str(z)\n",
    "\n",
    "    lst = []\n",
    "    for i in z:\n",
    "        lst.append(int(i))\n",
    "    \n",
    "    return lst"
   ]
  },
  {
   "cell_type": "code",
   "execution_count": 57,
   "id": "643ef658-0517-4de3-9e4f-dcd0e0dd7e0b",
   "metadata": {},
   "outputs": [
    {
     "data": {
      "text/plain": [
       "[1, 3, 0]"
      ]
     },
     "execution_count": 57,
     "metadata": {},
     "output_type": "execute_result"
    }
   ],
   "source": [
    "# some other math method\n",
    "def plusOne(digits):\n",
    "    n = len(digits)\n",
    "    j = n - 1\n",
    "\n",
    "    while j >= 0:\n",
    "        # print(digits[j])\n",
    "        if digits[j] == 9:\n",
    "            digits[j] = 0\n",
    "            j -= 1\n",
    "        else:\n",
    "            digits[j] += 1\n",
    "            return digits\n",
    "\n",
    "    return [1] + digits  \n",
    "\n",
    "plusOne([1,2,9])"
   ]
  },
  {
   "cell_type": "markdown",
   "id": "8b40266d-0b25-4ab1-ac99-9dfed2878f55",
   "metadata": {},
   "source": [
    "*QUICK NOTE*\n",
    "=============\n",
    "\n",
    "## Dictionary can also be initialized as : \n",
    "\n",
    "from `collections` import `defaultdict`\n",
    "\n",
    "count1 = defaultdict(int)\n"
   ]
  },
  {
   "cell_type": "markdown",
   "id": "86d2b8cf-bab2-4e5a-8fed-cba0cf34b340",
   "metadata": {},
   "source": [
    "**Move Zeroes**\n",
    "===============\n",
    "\n",
    "**Problem Statement**\n",
    "\n",
    "Given an integer array `nums`, move all 0's to the end of it while maintaining the relative order of the non-zero elements.\n",
    "\n",
    "**Note**: You must do this in-place without making a copy of the array.\n",
    "\n",
    "**Examples**\n",
    "------------\n",
    "\n",
    "### Example 1\n",
    "\n",
    "* Input: `nums = [0, 1, 0, 3, 12]`\n",
    "* Output: `[1, 3, 12, 0, 0]`\n",
    "\n",
    "### Example 2\n",
    "\n",
    "* Input: `nums = [0]`\n",
    "* Output: `[0]`\n",
    "\n",
    "**Constraints**\n",
    "--------------\n",
    "\n",
    "* `1 <= nums.length <= 10^4`\n",
    "* `-2^31 <= nums[i] <= 2^31 - 1` nums[i] <= 231 - 1"
   ]
  },
  {
   "cell_type": "code",
   "execution_count": 94,
   "id": "093fbcca-ec46-4758-94a2-219ed4de426b",
   "metadata": {},
   "outputs": [
    {
     "name": "stdout",
     "output_type": "stream",
     "text": [
      "[0, 0]\n"
     ]
    },
    {
     "data": {
      "text/plain": [
       "[0]"
      ]
     },
     "execution_count": 94,
     "metadata": {},
     "output_type": "execute_result"
    }
   ],
   "source": [
    "def moveZeroes(nums):\n",
    "    \"\"\"\n",
    "    :type nums: List[int]\n",
    "    :rtype: None Do not return anything, modify nums in-place instead.\n",
    "    \"\"\"\n",
    "    c = 0  \n",
    "    zero_position = []\n",
    "    for i in range(len(nums)):\n",
    "        if nums[i] == 0:\n",
    "            nums.append(0)\n",
    "            zero_position.append(i-c)\n",
    "            c+=1\n",
    "    for i in zero_position:\n",
    "        nums.pop(i)\n",
    "\n"
   ]
  },
  {
   "cell_type": "code",
   "execution_count": null,
   "id": "aae62386-5608-44f8-b8b2-10663be5b877",
   "metadata": {},
   "outputs": [],
   "source": []
  },
  {
   "cell_type": "code",
   "execution_count": null,
   "id": "8333b83e-9b0d-4979-8aad-d8fa1299ceee",
   "metadata": {},
   "outputs": [],
   "source": []
  },
  {
   "cell_type": "code",
   "execution_count": null,
   "id": "d3820f45-89e9-4b12-b22a-24062024ad2c",
   "metadata": {},
   "outputs": [],
   "source": []
  },
  {
   "cell_type": "code",
   "execution_count": null,
   "id": "584fb7fd-6c08-4e3f-ac50-bb2f4b1b260e",
   "metadata": {},
   "outputs": [],
   "source": []
  }
 ],
 "metadata": {
  "kernelspec": {
   "display_name": "Python 3 (ipykernel)",
   "language": "python",
   "name": "python3"
  },
  "language_info": {
   "codemirror_mode": {
    "name": "ipython",
    "version": 3
   },
   "file_extension": ".py",
   "mimetype": "text/x-python",
   "name": "python",
   "nbconvert_exporter": "python",
   "pygments_lexer": "ipython3",
   "version": "3.12.4"
  }
 },
 "nbformat": 4,
 "nbformat_minor": 5
}
