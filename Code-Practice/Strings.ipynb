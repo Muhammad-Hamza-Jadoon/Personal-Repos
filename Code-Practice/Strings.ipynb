{
 "cells": [
  {
   "cell_type": "markdown",
   "id": "ca48d502-9670-4b94-b332-42b8df526378",
   "metadata": {},
   "source": [
    "### Test Palindrome"
   ]
  },
  {
   "cell_type": "code",
   "execution_count": 4,
   "id": "aa40cbdc-2d85-43fa-929c-157e911bb048",
   "metadata": {},
   "outputs": [
    {
     "data": {
      "text/plain": [
       "True"
      ]
     },
     "execution_count": 4,
     "metadata": {},
     "output_type": "execute_result"
    }
   ],
   "source": [
    "def is_palindrome(s):\n",
    "    return s == s[::-1]\n",
    "\n",
    "is_palindrome(\"ele\")"
   ]
  },
  {
   "cell_type": "markdown",
   "id": "ed4395f9-5fbf-410b-b66a-3e5f911d4204",
   "metadata": {},
   "source": [
    "### Write a Python function that takes a list of integers and returns the sum of all the even numbers in the list.\n",
    "Example: sum_even([1, 2, 3, 4, 5, 6]) should return 12"
   ]
  },
  {
   "cell_type": "code",
   "execution_count": 74,
   "id": "dfe4daa8-f8d4-42cc-b096-8c57ade468dc",
   "metadata": {},
   "outputs": [],
   "source": [
    "lst = [1,3,5,6]\n",
    "sum = 0\n",
    "for i in lst:\n",
    "    if i%2 == 0:\n",
    "        sum = sum + i"
   ]
  },
  {
   "cell_type": "markdown",
   "id": "d0b1b048-37f3-41a7-8d10-603f5043ccff",
   "metadata": {},
   "source": [
    "### Write a Python function that takes a dictionary and returns a new dictionary with all the keys and values swapped.\n",
    "Example: swap_dict({\"a\": 1, \"b\": 2, \"c\": 3}) should return {1: \"a\", 2: \"b\", 3: \"c\"}"
   ]
  },
  {
   "cell_type": "code",
   "execution_count": 87,
   "id": "d04d5218-9803-465e-94b4-ac4475feb8c5",
   "metadata": {},
   "outputs": [
    {
     "name": "stdout",
     "output_type": "stream",
     "text": [
      "a 6\n",
      "b 2\n",
      "c 3\n"
     ]
    }
   ],
   "source": [
    "dic = {\"a\": 6, \"b\": 2, \"c\": 3}\n",
    "dic2 = {}\n",
    "for key, value in dic.items():\n",
    "    print(key, value)\n",
    "    dic2[value] = key"
   ]
  },
  {
   "cell_type": "markdown",
   "id": "8412c37d-ed96-436f-8bf8-265bfb9e8f44",
   "metadata": {},
   "source": [
    "### Write a Python function that takes a string and returns the longest palindromic substring within it.\n",
    "Example: longest_palindrome(\"babad\") should return \"bab\""
   ]
  },
  {
   "cell_type": "code",
   "execution_count": 1,
   "id": "a96eeeb2-fdc6-442b-a7ea-7cfd7ea85a7a",
   "metadata": {},
   "outputs": [
    {
     "name": "stdout",
     "output_type": "stream",
     "text": [
      "adafada\n"
     ]
    }
   ],
   "source": [
    "s = \"xyzabcfefgfefabc\"\n",
    "s = \"wleadafadasfh\"\n",
    "# complexity O(n^3)\n",
    "def larget_palindrome(s):\n",
    "    \n",
    "    palindrome_string = \"\"\n",
    "    for i in range(len(s)):\n",
    "    \n",
    "        cs_ = s[i::]\n",
    "        limit = len(cs_)\n",
    "        # print(cs_,limit,'\\n')\n",
    "        for j in range(len(cs_)):\n",
    "            # print(cs_[:limit:], \"==\", cs_[limit-1::-1])\n",
    "            if cs_[:limit:] == cs_[limit-1::-1] and limit>2 and len(cs_[:limit:])>len(palindrome_string):\n",
    "                palindrome_string = cs_[:limit:] \n",
    "            limit = limit-1\n",
    "        # print()\n",
    "    \n",
    "    return palindrome_string\n",
    "\n",
    "print(larget_palindrome(s))\n"
   ]
  },
  {
   "cell_type": "markdown",
   "id": "5be28897-5f40-4abf-a54a-6c80e109b810",
   "metadata": {},
   "source": [
    "### Write a function that reverses a string. The input string is given as an array of characters s.\n",
    "\n",
    "You must do this by modifying the input array in-place with O(1) extra memory."
   ]
  },
  {
   "cell_type": "code",
   "execution_count": 25,
   "id": "e1073d26-96f1-4d65-b81c-a176b729c584",
   "metadata": {},
   "outputs": [
    {
     "name": "stdout",
     "output_type": "stream",
     "text": [
      "['o', 'l', 'l', 'e', 'h']\n"
     ]
    }
   ],
   "source": [
    "def reverseString(s):\n",
    "\n",
    "    l = 0\n",
    "    r = len(s)-1\n",
    "    length = len(s)//2\n",
    "    \n",
    "    for i in range(length):\n",
    "        \n",
    "        s[l], s[r] = s[r], s[l] \n",
    "        \n",
    "        # var = s[l]\n",
    "        # s[l] = s[r]\n",
    "        # s[r] = var\n",
    "        \n",
    "        l+=1\n",
    "        r-=1\n",
    "        \n",
    "    print(s)\n",
    "\n",
    "s = [\"h\",\"e\",\"l\",\"l\",\"o\"]\n",
    "reverseString(s)"
   ]
  },
  {
   "cell_type": "markdown",
   "id": "735be5fe-698d-491f-b984-a076a0d446c2",
   "metadata": {},
   "source": [
    "### Reverse integer: x = 321, return 123\n",
    "\n",
    "Given a signed 32-bit integer x, return x with its digits reversed. If reversing x causes the value to go outside the signed 32-bit integer range [-231, 231 - 1], then return 0."
   ]
  },
  {
   "cell_type": "code",
   "execution_count": 74,
   "id": "71412b04-52a2-42df-b78c-f6805cc63b94",
   "metadata": {},
   "outputs": [
    {
     "data": {
      "text/plain": [
       "321"
      ]
     },
     "execution_count": 74,
     "metadata": {},
     "output_type": "execute_result"
    }
   ],
   "source": [
    "def reverse(x):\n",
    "        \"\"\"\n",
    "        :type x: int\n",
    "        :rtype: int\n",
    "        \"\"\"\n",
    "        st = str(x)\n",
    "        rst = st[::-1]\n",
    "        \n",
    "        if x>= 0:\n",
    "            \n",
    "            if int(rst) <= 2**31 - 1:\n",
    "                return int(rst)\n",
    "            else:\n",
    "                return 0\n",
    "            \n",
    "        else:\n",
    "            \n",
    "            if -int(rst[:len(rst)-1]) >= -2**31:\n",
    "                return -int(rst[:len(rst)-1])\n",
    "            else:\n",
    "                return 0\n",
    "\n",
    "val = 123\n",
    "reverse(val)"
   ]
  },
  {
   "cell_type": "markdown",
   "id": "cc75e450-8343-40c1-a8e9-dc5a6eb278a7",
   "metadata": {},
   "source": [
    "### First Unique Character in a String\n",
    "\n",
    "Given a string s, find the first non-repeating character in it and return its index. If it does not exist, return -1.\n",
    "e1:\n",
    "\n",
    "Input: s = \"leetcode\"\n",
    "Outmple 2:\n",
    "\n",
    "Input: s = \"loveleetcode\"\n",
    "Example 3:\n",
    "\n",
    "Input: s = \"aabb\"\n",
    "Output: -1"
   ]
  },
  {
   "cell_type": "code",
   "execution_count": null,
   "id": "d9c8d279-1161-432b-bc8f-0cb09d4c51bd",
   "metadata": {},
   "outputs": [],
   "source": [
    "# memory intensive\n",
    "def firstUniqChar(self, s):\n",
    "    for i in range (len(s)):\n",
    "        if s[i] not in s[:i] and s[i] not in s[i+1:]:\n",
    "            return i\n",
    "    return -1 "
   ]
  },
  {
   "cell_type": "code",
   "execution_count": null,
   "id": "be69ab5d-ec0b-42fb-8b17-99d3e4839ca7",
   "metadata": {},
   "outputs": [],
   "source": [
    "# my attempt\n",
    "def firstUniqChar(s):\n",
    "    \"\"\"\n",
    "    :type s: str\n",
    "    :rtype: int\n",
    "    \"\"\"\n",
    "    repeat = []\n",
    "    for i,j in enumerate(s):\n",
    "         \n",
    "        k = i+1\n",
    "        if len(s) == 1:\n",
    "            return 0  \n",
    "        \n",
    "        if j not in repeat and k == len(s):\n",
    "            return i\n",
    "        if k == len(s):\n",
    "            return -1\n",
    "        \n",
    "        if j not in repeat:  \n",
    "            while k<len(s):\n",
    "                print(s[i], \" == \",s[k])\n",
    "                if s[i] == s[k]:\n",
    "                    repeat.append(s[i])\n",
    "                    break                    \n",
    "                k+=1\n",
    "                \n",
    "            if k == len(s):\n",
    "                return i    \n",
    "        "
   ]
  },
  {
   "cell_type": "code",
   "execution_count": 54,
   "id": "eea02ec7-0be0-47cb-abf4-fe7fb4225a23",
   "metadata": {},
   "outputs": [
    {
     "data": {
      "text/plain": [
       "5"
      ]
     },
     "execution_count": 54,
     "metadata": {},
     "output_type": "execute_result"
    }
   ],
   "source": [
    "# Using a dictionary is the best way\n",
    "def firstUniqChar(s):\n",
    "    \"\"\"\n",
    "    :type s: str\n",
    "    :rtype: int\n",
    "    \"\"\"\n",
    "\n",
    "    d = {}\n",
    "    for char in s:\n",
    "        if char in d:\n",
    "            d[char] += 1\n",
    "        else:\n",
    "            d[char] = 1\n",
    "    # print(d)\n",
    "    \n",
    "    for i, char in enumerate(s):\n",
    "        if d[char] == 1:\n",
    "            return i\n",
    "            break\n",
    "    \n",
    "    return -1\n",
    "\n",
    "s = \"aacccds\"\n",
    "firstUniqChar(s)"
   ]
  },
  {
   "cell_type": "code",
   "execution_count": 47,
   "id": "e0e81cab-ce85-4bb4-9044-eff7d5d93a06",
   "metadata": {},
   "outputs": [],
   "source": [
    "def firstUniqChar(s):\n",
    "\n",
    "    letters = ['a','b','c','d','e']\n",
    "    index = []\n",
    "    for l in letters:\n",
    "        if s.count(l) == 1:\n",
    "            index.append(s.index(l))   \n",
    "    \n",
    "    return min(index)"
   ]
  },
  {
   "cell_type": "code",
   "execution_count": null,
   "id": "a6fc40ae-4dda-49db-9ac9-8b606ac64fc0",
   "metadata": {},
   "outputs": [],
   "source": []
  },
  {
   "cell_type": "markdown",
   "id": "7eefed55-b673-4486-a0e1-6e1577a05263",
   "metadata": {},
   "source": [
    "### Valid Anagram\n",
    "\n",
    "Given two strings s and t, return true if t is an anagram of s, and false otherwise.\n",
    "\n",
    "An Anagram is a word or phrase formed by rearranging the letters of a different word or phrase, typically using all the original letters exactly onc\n",
    "\n",
    "\n",
    "Input: s = \"anagram\", t = \"nagaram\"\n",
    "Output: tru\n",
    "\n",
    "Input: s = \"rat\", t = \"car\"\n",
    "Output: falseee."
   ]
  },
  {
   "cell_type": "code",
   "execution_count": 57,
   "id": "e0528cb0-5fe4-4f1d-9e74-2b42e2e609be",
   "metadata": {},
   "outputs": [
    {
     "name": "stdout",
     "output_type": "stream",
     "text": [
      "t =  n  count =  1\n",
      "t =  a  count =  3\n",
      "t =  g  count =  1\n",
      "t =  a  count =  3\n",
      "t =  r  count =  1\n",
      "t =  a  count =  3\n",
      "t =  m  count =  1\n"
     ]
    },
    {
     "data": {
      "text/plain": [
       "True"
      ]
     },
     "execution_count": 57,
     "metadata": {},
     "output_type": "execute_result"
    }
   ],
   "source": [
    "def isAnagram(s, t):\n",
    "    \"\"\"\n",
    "    :type s: str\n",
    "    :type t: str\n",
    "    :rtype: bool\n",
    "    \"\"\"\n",
    "    \n",
    "    if len(s) != len(t):\n",
    "        return False\n",
    "    \n",
    "    dic_1 = {}\n",
    "    for char in s:\n",
    "        if char not in dic_1:\n",
    "            dic_1[char] = 1\n",
    "        else:\n",
    "            dic_1[char] += 1\n",
    "\n",
    "    for i in range(len(t)):\n",
    "        print(\"t = \",t[i], \" count = \", t.count(t[i]))\n",
    "        if t[i] not in dic_1 or t.count(t[i]) != dic_1[t[i]]:         \n",
    "            return False \n",
    "    return True\n",
    "\n",
    "isAnagram(\"anagram\",\"nagaram\")"
   ]
  },
  {
   "cell_type": "code",
   "execution_count": 65,
   "id": "0a85eef3-b2f8-4bce-829b-28c565cfe057",
   "metadata": {},
   "outputs": [
    {
     "data": {
      "text/plain": [
       "True"
      ]
     },
     "execution_count": 65,
     "metadata": {},
     "output_type": "execute_result"
    }
   ],
   "source": [
    "def isAnagram(s, t):\n",
    "    s = ''.join(sorted(s))\n",
    "    t = ''.join(sorted(t))\n",
    "\n",
    "    return s==t\n",
    "    \n",
    "isAnagram(\"anagram\",\"nagaram\")"
   ]
  },
  {
   "cell_type": "code",
   "execution_count": 81,
   "id": "06725fab-e808-4f28-b7b5-e5b7bf75ef9a",
   "metadata": {},
   "outputs": [
    {
     "name": "stdout",
     "output_type": "stream",
     "text": [
      "['a', 'a', 'a', 'g', 'm', 'n', 'r']\n",
      "['a', 'a', 'a', 'g', 'm', 'n', 'r']\n"
     ]
    },
    {
     "data": {
      "text/plain": [
       "True"
      ]
     },
     "execution_count": 81,
     "metadata": {},
     "output_type": "execute_result"
    }
   ],
   "source": [
    "def isAnagram(s, t):\n",
    "\n",
    "    s = list(s)\n",
    "    t = list(t)\n",
    "    s.sort()\n",
    "    t.sort()\n",
    "    print(s)\n",
    "    print(t)\n",
    "    return s==t\n",
    "    \n",
    "isAnagram(\"anagram\",\"nagaram\")"
   ]
  },
  {
   "cell_type": "code",
   "execution_count": null,
   "id": "115ea80b-53f4-4503-9c3d-1ecef127ebfb",
   "metadata": {},
   "outputs": [],
   "source": []
  },
  {
   "cell_type": "code",
   "execution_count": null,
   "id": "70795c81-a9a0-4f6a-9027-a3b5fc3c4ad0",
   "metadata": {},
   "outputs": [],
   "source": []
  },
  {
   "cell_type": "code",
   "execution_count": null,
   "id": "268fcf8c-d1bd-430c-81f7-5d4c0cb879ae",
   "metadata": {},
   "outputs": [],
   "source": []
  },
  {
   "cell_type": "code",
   "execution_count": null,
   "id": "f94e2b36-7146-4ace-b4da-b41e29f5a21b",
   "metadata": {},
   "outputs": [],
   "source": []
  },
  {
   "cell_type": "code",
   "execution_count": null,
   "id": "7d30af9a-3066-4f63-a845-e8676ec7b6ea",
   "metadata": {},
   "outputs": [],
   "source": []
  }
 ],
 "metadata": {
  "kernelspec": {
   "display_name": "Python 3 (ipykernel)",
   "language": "python",
   "name": "python3"
  },
  "language_info": {
   "codemirror_mode": {
    "name": "ipython",
    "version": 3
   },
   "file_extension": ".py",
   "mimetype": "text/x-python",
   "name": "python",
   "nbconvert_exporter": "python",
   "pygments_lexer": "ipython3",
   "version": "3.10.13"
  }
 },
 "nbformat": 4,
 "nbformat_minor": 5
}
